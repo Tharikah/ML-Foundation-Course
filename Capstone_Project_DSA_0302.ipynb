{
  "cells": [
    {
      "cell_type": "markdown",
      "metadata": {
        "id": "view-in-github",
        "colab_type": "text"
      },
      "source": [
        "<a href=\"https://colab.research.google.com/github/Tharikah/ML-Foundation-Course/blob/main/Capstone_Project_DSA_0302.ipynb\" target=\"_parent\"><img src=\"https://colab.research.google.com/assets/colab-badge.svg\" alt=\"Open In Colab\"/></a>"
      ]
    },
    {
      "cell_type": "markdown",
      "metadata": {
        "id": "Ss04v3CeNJ2y"
      },
      "source": [
        "# Import Libraries"
      ]
    },
    {
      "cell_type": "code",
      "execution_count": null,
      "metadata": {
        "id": "wKUgKT1dNNs2"
      },
      "outputs": [],
      "source": [
        "import pandas as pd\n",
        "import numpy as np\n",
        "import matplotlib.pyplot as plt"
      ]
    },
    {
      "cell_type": "markdown",
      "metadata": {
        "id": "VffFGTNjOUb6"
      },
      "source": [
        "# Import Dataset"
      ]
    },
    {
      "cell_type": "code",
      "execution_count": null,
      "metadata": {
        "id": "L0hRkqn1NN7A"
      },
      "outputs": [],
      "source": [
        "df = pd.read_csv('loan_data_set.csv')"
      ]
    },
    {
      "cell_type": "code",
      "execution_count": null,
      "metadata": {
        "colab": {
          "base_uri": "https://localhost:8080/",
          "height": 239
        },
        "id": "tb2Kv_00OfR_",
        "outputId": "ef1b37f7-acb8-4a0c-cbd4-c02d8043da2e"
      },
      "outputs": [
        {
          "data": {
            "text/html": [
              "<div>\n",
              "<style scoped>\n",
              "    .dataframe tbody tr th:only-of-type {\n",
              "        vertical-align: middle;\n",
              "    }\n",
              "\n",
              "    .dataframe tbody tr th {\n",
              "        vertical-align: top;\n",
              "    }\n",
              "\n",
              "    .dataframe thead th {\n",
              "        text-align: right;\n",
              "    }\n",
              "</style>\n",
              "<table border=\"1\" class=\"dataframe\">\n",
              "  <thead>\n",
              "    <tr style=\"text-align: right;\">\n",
              "      <th></th>\n",
              "      <th>Loan_ID</th>\n",
              "      <th>Gender</th>\n",
              "      <th>Married</th>\n",
              "      <th>Dependents</th>\n",
              "      <th>Education</th>\n",
              "      <th>Self_Employed</th>\n",
              "      <th>ApplicantIncome</th>\n",
              "      <th>CoapplicantIncome</th>\n",
              "      <th>LoanAmount</th>\n",
              "      <th>Loan_Amount_Term</th>\n",
              "      <th>Credit_History</th>\n",
              "      <th>Property_Area</th>\n",
              "      <th>Loan_Status</th>\n",
              "    </tr>\n",
              "  </thead>\n",
              "  <tbody>\n",
              "    <tr>\n",
              "      <th>0</th>\n",
              "      <td>LP001002</td>\n",
              "      <td>Male</td>\n",
              "      <td>No</td>\n",
              "      <td>0</td>\n",
              "      <td>Graduate</td>\n",
              "      <td>No</td>\n",
              "      <td>5849</td>\n",
              "      <td>0.0</td>\n",
              "      <td>NaN</td>\n",
              "      <td>360.0</td>\n",
              "      <td>1.0</td>\n",
              "      <td>Urban</td>\n",
              "      <td>Y</td>\n",
              "    </tr>\n",
              "    <tr>\n",
              "      <th>1</th>\n",
              "      <td>LP001003</td>\n",
              "      <td>Male</td>\n",
              "      <td>Yes</td>\n",
              "      <td>1</td>\n",
              "      <td>Graduate</td>\n",
              "      <td>No</td>\n",
              "      <td>4583</td>\n",
              "      <td>1508.0</td>\n",
              "      <td>128.0</td>\n",
              "      <td>360.0</td>\n",
              "      <td>1.0</td>\n",
              "      <td>Rural</td>\n",
              "      <td>N</td>\n",
              "    </tr>\n",
              "    <tr>\n",
              "      <th>2</th>\n",
              "      <td>LP001005</td>\n",
              "      <td>Male</td>\n",
              "      <td>Yes</td>\n",
              "      <td>0</td>\n",
              "      <td>Graduate</td>\n",
              "      <td>Yes</td>\n",
              "      <td>3000</td>\n",
              "      <td>0.0</td>\n",
              "      <td>66.0</td>\n",
              "      <td>360.0</td>\n",
              "      <td>1.0</td>\n",
              "      <td>Urban</td>\n",
              "      <td>Y</td>\n",
              "    </tr>\n",
              "    <tr>\n",
              "      <th>3</th>\n",
              "      <td>LP001006</td>\n",
              "      <td>Male</td>\n",
              "      <td>Yes</td>\n",
              "      <td>0</td>\n",
              "      <td>Not Graduate</td>\n",
              "      <td>No</td>\n",
              "      <td>2583</td>\n",
              "      <td>2358.0</td>\n",
              "      <td>120.0</td>\n",
              "      <td>360.0</td>\n",
              "      <td>1.0</td>\n",
              "      <td>Urban</td>\n",
              "      <td>Y</td>\n",
              "    </tr>\n",
              "    <tr>\n",
              "      <th>4</th>\n",
              "      <td>LP001008</td>\n",
              "      <td>Male</td>\n",
              "      <td>No</td>\n",
              "      <td>0</td>\n",
              "      <td>Graduate</td>\n",
              "      <td>No</td>\n",
              "      <td>6000</td>\n",
              "      <td>0.0</td>\n",
              "      <td>141.0</td>\n",
              "      <td>360.0</td>\n",
              "      <td>1.0</td>\n",
              "      <td>Urban</td>\n",
              "      <td>Y</td>\n",
              "    </tr>\n",
              "  </tbody>\n",
              "</table>\n",
              "</div>"
            ],
            "text/plain": [
              "    Loan_ID Gender Married Dependents     Education Self_Employed  \\\n",
              "0  LP001002   Male      No          0      Graduate            No   \n",
              "1  LP001003   Male     Yes          1      Graduate            No   \n",
              "2  LP001005   Male     Yes          0      Graduate           Yes   \n",
              "3  LP001006   Male     Yes          0  Not Graduate            No   \n",
              "4  LP001008   Male      No          0      Graduate            No   \n",
              "\n",
              "   ApplicantIncome  CoapplicantIncome  LoanAmount  Loan_Amount_Term  \\\n",
              "0             5849                0.0         NaN             360.0   \n",
              "1             4583             1508.0       128.0             360.0   \n",
              "2             3000                0.0        66.0             360.0   \n",
              "3             2583             2358.0       120.0             360.0   \n",
              "4             6000                0.0       141.0             360.0   \n",
              "\n",
              "   Credit_History Property_Area Loan_Status  \n",
              "0             1.0         Urban           Y  \n",
              "1             1.0         Rural           N  \n",
              "2             1.0         Urban           Y  \n",
              "3             1.0         Urban           Y  \n",
              "4             1.0         Urban           Y  "
            ]
          },
          "execution_count": 3,
          "metadata": {},
          "output_type": "execute_result"
        }
      ],
      "source": [
        "df.head()"
      ]
    },
    {
      "cell_type": "markdown",
      "metadata": {
        "id": "WCbFpMTzN_BM"
      },
      "source": [
        "# Identyfying Rows and Columns Count"
      ]
    },
    {
      "cell_type": "code",
      "execution_count": null,
      "metadata": {
        "colab": {
          "base_uri": "https://localhost:8080/"
        },
        "id": "Yaye6UJLOsxU",
        "outputId": "15b0b131-f914-4e06-df48-3324caacbf4a"
      },
      "outputs": [
        {
          "data": {
            "text/plain": [
              "(614, 13)"
            ]
          },
          "execution_count": 4,
          "metadata": {},
          "output_type": "execute_result"
        }
      ],
      "source": [
        "df.shape"
      ]
    },
    {
      "cell_type": "code",
      "execution_count": null,
      "metadata": {
        "colab": {
          "base_uri": "https://localhost:8080/"
        },
        "id": "8eplOl5XPEzN",
        "outputId": "ab6d12e1-91b9-4518-f2d4-bf4a1d07ca02"
      },
      "outputs": [
        {
          "data": {
            "text/plain": [
              "Index(['Loan_ID', 'Gender', 'Married', 'Dependents', 'Education',\n",
              "       'Self_Employed', 'ApplicantIncome', 'CoapplicantIncome', 'LoanAmount',\n",
              "       'Loan_Amount_Term', 'Credit_History', 'Property_Area', 'Loan_Status'],\n",
              "      dtype='object')"
            ]
          },
          "execution_count": 5,
          "metadata": {},
          "output_type": "execute_result"
        }
      ],
      "source": [
        "df.columns"
      ]
    },
    {
      "cell_type": "markdown",
      "metadata": {
        "id": "iek_bhqpN_BO"
      },
      "source": [
        "# Statistics for Numerical Variables"
      ]
    },
    {
      "cell_type": "code",
      "execution_count": null,
      "metadata": {
        "colab": {
          "base_uri": "https://localhost:8080/",
          "height": 284
        },
        "id": "9AtoayBlP1W3",
        "outputId": "689efa22-554a-46c4-e6e0-cd944f76b774"
      },
      "outputs": [
        {
          "data": {
            "text/html": [
              "<div>\n",
              "<style scoped>\n",
              "    .dataframe tbody tr th:only-of-type {\n",
              "        vertical-align: middle;\n",
              "    }\n",
              "\n",
              "    .dataframe tbody tr th {\n",
              "        vertical-align: top;\n",
              "    }\n",
              "\n",
              "    .dataframe thead th {\n",
              "        text-align: right;\n",
              "    }\n",
              "</style>\n",
              "<table border=\"1\" class=\"dataframe\">\n",
              "  <thead>\n",
              "    <tr style=\"text-align: right;\">\n",
              "      <th></th>\n",
              "      <th>ApplicantIncome</th>\n",
              "      <th>CoapplicantIncome</th>\n",
              "      <th>LoanAmount</th>\n",
              "      <th>Loan_Amount_Term</th>\n",
              "      <th>Credit_History</th>\n",
              "    </tr>\n",
              "  </thead>\n",
              "  <tbody>\n",
              "    <tr>\n",
              "      <th>count</th>\n",
              "      <td>614.000000</td>\n",
              "      <td>614.000000</td>\n",
              "      <td>592.000000</td>\n",
              "      <td>600.00000</td>\n",
              "      <td>564.000000</td>\n",
              "    </tr>\n",
              "    <tr>\n",
              "      <th>mean</th>\n",
              "      <td>5403.459283</td>\n",
              "      <td>1621.245798</td>\n",
              "      <td>146.412162</td>\n",
              "      <td>342.00000</td>\n",
              "      <td>0.842199</td>\n",
              "    </tr>\n",
              "    <tr>\n",
              "      <th>std</th>\n",
              "      <td>6109.041673</td>\n",
              "      <td>2926.248369</td>\n",
              "      <td>85.587325</td>\n",
              "      <td>65.12041</td>\n",
              "      <td>0.364878</td>\n",
              "    </tr>\n",
              "    <tr>\n",
              "      <th>min</th>\n",
              "      <td>150.000000</td>\n",
              "      <td>0.000000</td>\n",
              "      <td>9.000000</td>\n",
              "      <td>12.00000</td>\n",
              "      <td>0.000000</td>\n",
              "    </tr>\n",
              "    <tr>\n",
              "      <th>25%</th>\n",
              "      <td>2877.500000</td>\n",
              "      <td>0.000000</td>\n",
              "      <td>100.000000</td>\n",
              "      <td>360.00000</td>\n",
              "      <td>1.000000</td>\n",
              "    </tr>\n",
              "    <tr>\n",
              "      <th>50%</th>\n",
              "      <td>3812.500000</td>\n",
              "      <td>1188.500000</td>\n",
              "      <td>128.000000</td>\n",
              "      <td>360.00000</td>\n",
              "      <td>1.000000</td>\n",
              "    </tr>\n",
              "    <tr>\n",
              "      <th>75%</th>\n",
              "      <td>5795.000000</td>\n",
              "      <td>2297.250000</td>\n",
              "      <td>168.000000</td>\n",
              "      <td>360.00000</td>\n",
              "      <td>1.000000</td>\n",
              "    </tr>\n",
              "    <tr>\n",
              "      <th>max</th>\n",
              "      <td>81000.000000</td>\n",
              "      <td>41667.000000</td>\n",
              "      <td>700.000000</td>\n",
              "      <td>480.00000</td>\n",
              "      <td>1.000000</td>\n",
              "    </tr>\n",
              "  </tbody>\n",
              "</table>\n",
              "</div>"
            ],
            "text/plain": [
              "       ApplicantIncome  CoapplicantIncome  LoanAmount  Loan_Amount_Term  \\\n",
              "count       614.000000         614.000000  592.000000         600.00000   \n",
              "mean       5403.459283        1621.245798  146.412162         342.00000   \n",
              "std        6109.041673        2926.248369   85.587325          65.12041   \n",
              "min         150.000000           0.000000    9.000000          12.00000   \n",
              "25%        2877.500000           0.000000  100.000000         360.00000   \n",
              "50%        3812.500000        1188.500000  128.000000         360.00000   \n",
              "75%        5795.000000        2297.250000  168.000000         360.00000   \n",
              "max       81000.000000       41667.000000  700.000000         480.00000   \n",
              "\n",
              "       Credit_History  \n",
              "count      564.000000  \n",
              "mean         0.842199  \n",
              "std          0.364878  \n",
              "min          0.000000  \n",
              "25%          1.000000  \n",
              "50%          1.000000  \n",
              "75%          1.000000  \n",
              "max          1.000000  "
            ]
          },
          "execution_count": 6,
          "metadata": {},
          "output_type": "execute_result"
        }
      ],
      "source": [
        "df.describe()"
      ]
    },
    {
      "cell_type": "markdown",
      "metadata": {
        "id": "B5oY94MjN_BQ"
      },
      "source": [
        "# Column wise Data type and Not Null Value Counts"
      ]
    },
    {
      "cell_type": "code",
      "execution_count": null,
      "metadata": {
        "colab": {
          "base_uri": "https://localhost:8080/"
        },
        "id": "WDqzmiXVOmc9",
        "outputId": "ad9abff1-1e28-4b64-b2fe-28f8f3c7fe8e"
      },
      "outputs": [
        {
          "name": "stdout",
          "output_type": "stream",
          "text": [
            "<class 'pandas.core.frame.DataFrame'>\n",
            "RangeIndex: 614 entries, 0 to 613\n",
            "Data columns (total 13 columns):\n",
            " #   Column             Non-Null Count  Dtype  \n",
            "---  ------             --------------  -----  \n",
            " 0   Loan_ID            614 non-null    object \n",
            " 1   Gender             601 non-null    object \n",
            " 2   Married            611 non-null    object \n",
            " 3   Dependents         599 non-null    object \n",
            " 4   Education          614 non-null    object \n",
            " 5   Self_Employed      582 non-null    object \n",
            " 6   ApplicantIncome    614 non-null    int64  \n",
            " 7   CoapplicantIncome  614 non-null    float64\n",
            " 8   LoanAmount         592 non-null    float64\n",
            " 9   Loan_Amount_Term   600 non-null    float64\n",
            " 10  Credit_History     564 non-null    float64\n",
            " 11  Property_Area      614 non-null    object \n",
            " 12  Loan_Status        614 non-null    object \n",
            "dtypes: float64(4), int64(1), object(8)\n",
            "memory usage: 62.5+ KB\n"
          ]
        }
      ],
      "source": [
        "df.info()"
      ]
    },
    {
      "cell_type": "markdown",
      "metadata": {
        "id": "9975GgavN_BR"
      },
      "source": [
        "# Identyfying missing Values"
      ]
    },
    {
      "cell_type": "code",
      "execution_count": null,
      "metadata": {
        "colab": {
          "base_uri": "https://localhost:8080/"
        },
        "id": "jhQvi8jRPe8p",
        "outputId": "e7dbf260-35f0-458a-f23f-10ed8337d1f0"
      },
      "outputs": [
        {
          "data": {
            "text/plain": [
              "Loan_ID               0\n",
              "Gender               13\n",
              "Married               3\n",
              "Dependents           15\n",
              "Education             0\n",
              "Self_Employed        32\n",
              "ApplicantIncome       0\n",
              "CoapplicantIncome     0\n",
              "LoanAmount           22\n",
              "Loan_Amount_Term     14\n",
              "Credit_History       50\n",
              "Property_Area         0\n",
              "Loan_Status           0\n",
              "dtype: int64"
            ]
          },
          "execution_count": 8,
          "metadata": {},
          "output_type": "execute_result"
        }
      ],
      "source": [
        "df.isnull().sum()"
      ]
    },
    {
      "cell_type": "markdown",
      "metadata": {
        "id": "nEVL01BrP8UG"
      },
      "source": [
        "# Exploratory Data Analysis"
      ]
    },
    {
      "cell_type": "markdown",
      "metadata": {
        "id": "qhZ_ik8OgGzA"
      },
      "source": [
        "# Univariate Analysis"
      ]
    },
    {
      "cell_type": "code",
      "execution_count": null,
      "metadata": {
        "colab": {
          "base_uri": "https://localhost:8080/"
        },
        "id": "SpedZe3NQAeQ",
        "outputId": "3016a9ac-229f-46ea-fbac-1c310cfbca09"
      },
      "outputs": [
        {
          "data": {
            "text/plain": [
              "Male      0.813644\n",
              "Female    0.186356\n",
              "Name: Gender, dtype: float64"
            ]
          },
          "execution_count": 9,
          "metadata": {},
          "output_type": "execute_result"
        }
      ],
      "source": [
        "df['Gender'].value_counts(normalize = True)"
      ]
    },
    {
      "cell_type": "code",
      "execution_count": null,
      "metadata": {
        "colab": {
          "base_uri": "https://localhost:8080/",
          "height": 280
        },
        "id": "_2jqSpXfgJOn",
        "outputId": "709a5856-ffde-44d7-8036-ef2ea97a0d9b"
      },
      "outputs": [
        {
          "data": {
            "text/plain": [
              "<matplotlib.axes._subplots.AxesSubplot at 0x2132263a2b0>"
            ]
          },
          "execution_count": 10,
          "metadata": {},
          "output_type": "execute_result"
        },
        {
          "data": {
            "image/png": "[encoded data removed]",
            "text/plain": [
              "<Figure size 432x288 with 1 Axes>"
            ]
          },
          "metadata": {
            "needs_background": "light"
          },
          "output_type": "display_data"
        }
      ],
      "source": [
        "df['Gender'].value_counts(normalize = True).plot.bar()"
      ]
    },
    {
      "cell_type": "code",
      "execution_count": null,
      "metadata": {
        "colab": {
          "base_uri": "https://localhost:8080/"
        },
        "id": "_JsnGO8fQx3O",
        "outputId": "650abdb0-3d03-4089-c4dc-e5c01bb4c20f"
      },
      "outputs": [
        {
          "data": {
            "text/plain": [
              "Yes    0.651391\n",
              "No     0.348609\n",
              "Name: Married, dtype: float64"
            ]
          },
          "execution_count": 11,
          "metadata": {},
          "output_type": "execute_result"
        }
      ],
      "source": [
        "df['Married'].value_counts(normalize = True)"
      ]
    },
    {
      "cell_type": "code",
      "execution_count": null,
      "metadata": {
        "colab": {
          "base_uri": "https://localhost:8080/",
          "height": 280
        },
        "id": "O686DEUdgP-T",
        "outputId": "bdafff42-a8f5-4b7a-e027-3b9ca58db382"
      },
      "outputs": [
        {
          "data": {
            "text/plain": [
              "<matplotlib.axes._subplots.AxesSubplot at 0x21324704048>"
            ]
          },
          "execution_count": 12,
          "metadata": {},
          "output_type": "execute_result"
        },
        {
          "data": {
            "image/png": "[encoded data removed]",
            "text/plain": [
              "<Figure size 432x288 with 1 Axes>"
            ]
          },
          "metadata": {
            "needs_background": "light"
          },
          "output_type": "display_data"
        }
      ],
      "source": [
        "df['Married'].value_counts(normalize = True).plot.bar()"
      ]
    },
    {
      "cell_type": "code",
      "execution_count": null,
      "metadata": {
        "colab": {
          "base_uri": "https://localhost:8080/"
        },
        "id": "tDCh7YvfgxjF",
        "outputId": "edc092ba-1c81-4734-bcdc-64f8a68735d5"
      },
      "outputs": [
        {
          "data": {
            "text/plain": [
              "0     0.575960\n",
              "1     0.170284\n",
              "2     0.168614\n",
              "3+    0.085142\n",
              "Name: Dependents, dtype: float64"
            ]
          },
          "execution_count": 13,
          "metadata": {},
          "output_type": "execute_result"
        }
      ],
      "source": [
        "df['Dependents'].value_counts(normalize = True)\n"
      ]
    },
    {
      "cell_type": "code",
      "execution_count": null,
      "metadata": {
        "colab": {
          "base_uri": "https://localhost:8080/",
          "height": 280
        },
        "id": "mLsQpVBghEJg",
        "outputId": "4d2b828f-33af-495a-92ae-1b3158ccf70d"
      },
      "outputs": [
        {
          "data": {
            "text/plain": [
              "<matplotlib.axes._subplots.AxesSubplot at 0x2132475b780>"
            ]
          },
          "execution_count": 14,
          "metadata": {},
          "output_type": "execute_result"
        },
        {
          "data": {
            "image/png": "[encoded data removed]",
            "text/plain": [
              "<Figure size 432x288 with 1 Axes>"
            ]
          },
          "metadata": {
            "needs_background": "light"
          },
          "output_type": "display_data"
        }
      ],
      "source": [
        "df['Dependents'].value_counts(normalize = True).plot.bar()"
      ]
    },
    {
      "cell_type": "code",
      "execution_count": null,
      "metadata": {
        "colab": {
          "base_uri": "https://localhost:8080/"
        },
        "id": "60t16I8ZQx5d",
        "outputId": "09e0c642-8260-499b-99b3-51fa1935feb7"
      },
      "outputs": [
        {
          "data": {
            "text/plain": [
              "Graduate        0.781759\n",
              "Not Graduate    0.218241\n",
              "Name: Education, dtype: float64"
            ]
          },
          "execution_count": 15,
          "metadata": {},
          "output_type": "execute_result"
        }
      ],
      "source": [
        "df['Education'].value_counts(normalize = True)"
      ]
    },
    {
      "cell_type": "code",
      "execution_count": null,
      "metadata": {
        "colab": {
          "base_uri": "https://localhost:8080/",
          "height": 282
        },
        "id": "pE07w2W4gWHz",
        "outputId": "d3febda1-7196-43ec-c01f-89579d8e2c2c"
      },
      "outputs": [
        {
          "data": {
            "text/plain": [
              "<matplotlib.axes._subplots.AxesSubplot at 0x213247ce6a0>"
            ]
          },
          "execution_count": 16,
          "metadata": {},
          "output_type": "execute_result"
        },
        {
          "data": {
            "image/png": "[encoded data removed]",
            "text/plain": [
              "<Figure size 432x288 with 1 Axes>"
            ]
          },
          "metadata": {
            "needs_background": "light"
          },
          "output_type": "display_data"
        }
      ],
      "source": [
        "df['Education'].value_counts(normalize = True).plot.bar()"
      ]
    },
    {
      "cell_type": "code",
      "execution_count": null,
      "metadata": {
        "colab": {
          "base_uri": "https://localhost:8080/"
        },
        "id": "-SFcoOh1Qx8n",
        "outputId": "f71670f1-1609-4877-deed-9fbc4d444473"
      },
      "outputs": [
        {
          "data": {
            "text/plain": [
              "No     0.859107\n",
              "Yes    0.140893\n",
              "Name: Self_Employed, dtype: float64"
            ]
          },
          "execution_count": 17,
          "metadata": {},
          "output_type": "execute_result"
        }
      ],
      "source": [
        "df['Self_Employed'].value_counts(normalize = True)"
      ]
    },
    {
      "cell_type": "code",
      "execution_count": null,
      "metadata": {
        "colab": {
          "base_uri": "https://localhost:8080/",
          "height": 280
        },
        "id": "TnZ2j3T2gZ19",
        "outputId": "516392ca-3502-4b3b-9c12-9dc59ccf0c55"
      },
      "outputs": [
        {
          "data": {
            "text/plain": [
              "<matplotlib.axes._subplots.AxesSubplot at 0x21324830e48>"
            ]
          },
          "execution_count": 18,
          "metadata": {},
          "output_type": "execute_result"
        },
        {
          "data": {
            "image/png": "[encoded data removed]",
            "text/plain": [
              "<Figure size 432x288 with 1 Axes>"
            ]
          },
          "metadata": {
            "needs_background": "light"
          },
          "output_type": "display_data"
        }
      ],
      "source": [
        "df['Self_Employed'].value_counts(normalize = True).plot.bar()"
      ]
    },
    {
      "cell_type": "code",
      "execution_count": null,
      "metadata": {
        "colab": {
          "base_uri": "https://localhost:8080/"
        },
        "id": "6Gf7JCE-QAhk",
        "outputId": "a9c4ccd8-e545-476c-c4a1-03430be6792a"
      },
      "outputs": [
        {
          "data": {
            "text/plain": [
              "Semiurban    0.379479\n",
              "Urban        0.328990\n",
              "Rural        0.291531\n",
              "Name: Property_Area, dtype: float64"
            ]
          },
          "execution_count": 19,
          "metadata": {},
          "output_type": "execute_result"
        }
      ],
      "source": [
        "df['Property_Area'].value_counts(normalize = True)"
      ]
    },
    {
      "cell_type": "code",
      "execution_count": null,
      "metadata": {
        "colab": {
          "base_uri": "https://localhost:8080/",
          "height": 280
        },
        "id": "ZCol7Otpgc2B",
        "outputId": "759db082-0d6c-44e8-e170-fa9ac1613dcc"
      },
      "outputs": [
        {
          "data": {
            "text/plain": [
              "<matplotlib.axes._subplots.AxesSubplot at 0x21324886908>"
            ]
          },
          "execution_count": 20,
          "metadata": {},
          "output_type": "execute_result"
        },
        {
          "data": {
            "image/png": "[encoded data removed]",
            "text/plain": [
              "<Figure size 432x288 with 1 Axes>"
            ]
          },
          "metadata": {
            "needs_background": "light"
          },
          "output_type": "display_data"
        }
      ],
      "source": [
        "df['Property_Area'].value_counts(normalize = True).plot.bar()"
      ]
    },
    {
      "cell_type": "code",
      "execution_count": null,
      "metadata": {
        "colab": {
          "base_uri": "https://localhost:8080/"
        },
        "id": "akebVazyQAuB",
        "outputId": "46591b88-39c4-444b-8b0c-ec1e19ede43a"
      },
      "outputs": [
        {
          "data": {
            "text/plain": [
              "Y    422\n",
              "N    192\n",
              "Name: Loan_Status, dtype: int64"
            ]
          },
          "execution_count": 21,
          "metadata": {},
          "output_type": "execute_result"
        }
      ],
      "source": [
        "df['Loan_Status'].value_counts()"
      ]
    },
    {
      "cell_type": "code",
      "execution_count": null,
      "metadata": {
        "colab": {
          "base_uri": "https://localhost:8080/",
          "height": 280
        },
        "id": "xvBeFPLBgg-Y",
        "outputId": "347ff98e-07e7-4e98-add1-09c1c6d7075f"
      },
      "outputs": [
        {
          "data": {
            "text/plain": [
              "<matplotlib.axes._subplots.AxesSubplot at 0x213258b89b0>"
            ]
          },
          "execution_count": 22,
          "metadata": {},
          "output_type": "execute_result"
        },
        {
          "data": {
            "image/png": "[encoded data removed]",
            "text/plain": [
              "<Figure size 432x288 with 1 Axes>"
            ]
          },
          "metadata": {
            "needs_background": "light"
          },
          "output_type": "display_data"
        }
      ],
      "source": [
        "df['Loan_Status'].value_counts().plot.bar()"
      ]
    },
    {
      "cell_type": "code",
      "execution_count": null,
      "metadata": {
        "colab": {
          "base_uri": "https://localhost:8080/"
        },
        "id": "68AAXZZwajuX",
        "outputId": "b87dd85e-a062-4793-ab31-9763d217f811"
      },
      "outputs": [
        {
          "data": {
            "text/plain": [
              "1.0    475\n",
              "0.0     89\n",
              "Name: Credit_History, dtype: int64"
            ]
          },
          "execution_count": 23,
          "metadata": {},
          "output_type": "execute_result"
        }
      ],
      "source": [
        "df['Credit_History'].value_counts()"
      ]
    },
    {
      "cell_type": "code",
      "execution_count": null,
      "metadata": {
        "colab": {
          "base_uri": "https://localhost:8080/",
          "height": 280
        },
        "id": "cano0rGFgllh",
        "outputId": "283ac2a6-eb7d-4efc-ec16-3e6458728cd3"
      },
      "outputs": [
        {
          "data": {
            "text/plain": [
              "<matplotlib.axes._subplots.AxesSubplot at 0x2132591b4e0>"
            ]
          },
          "execution_count": 24,
          "metadata": {},
          "output_type": "execute_result"
        },
        {
          "data": {
            "image/png": "[encoded data removed]",
            "text/plain": [
              "<Figure size 432x288 with 1 Axes>"
            ]
          },
          "metadata": {
            "needs_background": "light"
          },
          "output_type": "display_data"
        }
      ],
      "source": [
        "df['Credit_History'].value_counts().plot.bar()"
      ]
    },
    {
      "cell_type": "code",
      "execution_count": null,
      "metadata": {
        "colab": {
          "base_uri": "https://localhost:8080/",
          "height": 302
        },
        "id": "ZUMeB3q7inpC",
        "outputId": "9046a825-da47-4db9-aeed-f182bc759378"
      },
      "outputs": [
        {
          "data": {
            "text/plain": [
              "<matplotlib.axes._subplots.AxesSubplot at 0x2132596dcf8>"
            ]
          },
          "execution_count": 25,
          "metadata": {},
          "output_type": "execute_result"
        },
        {
          "data": {
            "image/png": "[encoded data removed]",
            "text/plain": [
              "<Figure size 432x288 with 1 Axes>"
            ]
          },
          "metadata": {
            "needs_background": "light"
          },
          "output_type": "display_data"
        }
      ],
      "source": [
        "df['Loan_Amount_Term'].value_counts().plot.bar()"
      ]
    },
    {
      "cell_type": "code",
      "execution_count": null,
      "metadata": {
        "colab": {
          "base_uri": "https://localhost:8080/",
          "height": 282
        },
        "id": "83MeGq7Ygq9t",
        "outputId": "60e3d2ca-f999-4178-b849-1a5d60dd9882"
      },
      "outputs": [
        {
          "data": {
            "text/plain": [
              "<matplotlib.axes._subplots.AxesSubplot at 0x213259c8f98>"
            ]
          },
          "execution_count": 26,
          "metadata": {},
          "output_type": "execute_result"
        },
        {
          "data": {
            "image/png": "[encoded data removed]",
            "text/plain": [
              "<Figure size 432x288 with 1 Axes>"
            ]
          },
          "metadata": {
            "needs_background": "light"
          },
          "output_type": "display_data"
        }
      ],
      "source": [
        "df['ApplicantIncome'].plot.box()"
      ]
    },
    {
      "cell_type": "code",
      "execution_count": null,
      "metadata": {
        "colab": {
          "base_uri": "https://localhost:8080/",
          "height": 282
        },
        "id": "lCbZ0uVLgrBP",
        "outputId": "2e196029-f63f-4e13-ccc6-447003656988"
      },
      "outputs": [
        {
          "data": {
            "text/plain": [
              "<matplotlib.axes._subplots.AxesSubplot at 0x2132591bf60>"
            ]
          },
          "execution_count": 27,
          "metadata": {},
          "output_type": "execute_result"
        },
        {
          "data": {
            "image/png": "[encoded data removed]",
            "text/plain": [
              "<Figure size 432x288 with 1 Axes>"
            ]
          },
          "metadata": {
            "needs_background": "light"
          },
          "output_type": "display_data"
        }
      ],
      "source": [
        "df['CoapplicantIncome'].plot.box()"
      ]
    },
    {
      "cell_type": "code",
      "execution_count": null,
      "metadata": {
        "colab": {
          "base_uri": "https://localhost:8080/",
          "height": 282
        },
        "id": "7zf0MPKmiLoV",
        "outputId": "86bb5518-0707-41df-cbb7-15673b36c638"
      },
      "outputs": [
        {
          "data": {
            "text/plain": [
              "<matplotlib.axes._subplots.AxesSubplot at 0x21325a937f0>"
            ]
          },
          "execution_count": 28,
          "metadata": {},
          "output_type": "execute_result"
        },
        {
          "data": {
            "image/png": "[encoded data removed]",
            "text/plain": [
              "<Figure size 432x288 with 1 Axes>"
            ]
          },
          "metadata": {
            "needs_background": "light"
          },
          "output_type": "display_data"
        }
      ],
      "source": [
        "df['LoanAmount'].plot.box()"
      ]
    },
    {
      "cell_type": "markdown",
      "metadata": {
        "id": "K_ITz2nbirTI"
      },
      "source": [
        "# Bivariate Analysis"
      ]
    },
    {
      "cell_type": "code",
      "execution_count": null,
      "metadata": {
        "colab": {
          "base_uri": "https://localhost:8080/",
          "height": 294
        },
        "id": "Uh6qT3qTj4NU",
        "outputId": "e5cac5d6-b95d-4642-aeb9-2ec56c6fa450"
      },
      "outputs": [
        {
          "data": {
            "text/plain": [
              "<matplotlib.axes._subplots.AxesSubplot at 0x21325b054e0>"
            ]
          },
          "execution_count": 29,
          "metadata": {},
          "output_type": "execute_result"
        },
        {
          "data": {
            "image/png": "[encoded data removed]",
            "text/plain": [
              "<Figure size 432x288 with 1 Axes>"
            ]
          },
          "metadata": {
            "needs_background": "light"
          },
          "output_type": "display_data"
        }
      ],
      "source": [
        "G =pd.crosstab(df['Gender'],df['Loan_Status'])\n",
        "G.plot.bar(stacked='True')"
      ]
    },
    {
      "cell_type": "code",
      "execution_count": null,
      "metadata": {
        "colab": {
          "base_uri": "https://localhost:8080/",
          "height": 294
        },
        "id": "54Iw3sv6j4PD",
        "outputId": "09556853-7764-4db3-ec67-4a3cf19232cd"
      },
      "outputs": [
        {
          "data": {
            "text/plain": [
              "<matplotlib.axes._subplots.AxesSubplot at 0x21325b7e2b0>"
            ]
          },
          "execution_count": 30,
          "metadata": {},
          "output_type": "execute_result"
        },
        {
          "data": {
            "image/png": "[encoded data removed]",
            "text/plain": [
              "<Figure size 432x288 with 1 Axes>"
            ]
          },
          "metadata": {
            "needs_background": "light"
          },
          "output_type": "display_data"
        }
      ],
      "source": [
        "M =pd.crosstab(df['Married'],df['Loan_Status'])\n",
        "M.plot.bar(stacked='True')"
      ]
    },
    {
      "cell_type": "code",
      "execution_count": null,
      "metadata": {
        "colab": {
          "base_uri": "https://localhost:8080/",
          "height": 294
        },
        "id": "WoJM0241j4Q7",
        "outputId": "f6a7c659-dae1-457d-b4c9-f9f25ef6ef62"
      },
      "outputs": [
        {
          "data": {
            "text/plain": [
              "<matplotlib.axes._subplots.AxesSubplot at 0x21325bfb588>"
            ]
          },
          "execution_count": 31,
          "metadata": {},
          "output_type": "execute_result"
        },
        {
          "data": {
            "image/png": "[encoded data removed]",
            "text/plain": [
              "<Figure size 432x288 with 1 Axes>"
            ]
          },
          "metadata": {
            "needs_background": "light"
          },
          "output_type": "display_data"
        }
      ],
      "source": [
        "D =pd.crosstab(df['Dependents'],df['Loan_Status'])\n",
        "D.plot.bar(stacked='True')"
      ]
    },
    {
      "cell_type": "code",
      "execution_count": null,
      "metadata": {
        "colab": {
          "base_uri": "https://localhost:8080/",
          "height": 296
        },
        "id": "pRdtEsWdj4UJ",
        "outputId": "26c5aff2-8872-467d-eb61-b2f579d432b7"
      },
      "outputs": [
        {
          "data": {
            "text/plain": [
              "<matplotlib.axes._subplots.AxesSubplot at 0x21325c43278>"
            ]
          },
          "execution_count": 32,
          "metadata": {},
          "output_type": "execute_result"
        },
        {
          "data": {
            "image/png": "[encoded data removed]",
            "text/plain": [
              "<Figure size 432x288 with 1 Axes>"
            ]
          },
          "metadata": {
            "needs_background": "light"
          },
          "output_type": "display_data"
        }
      ],
      "source": [
        "E =pd.crosstab(df['Education'],df['Loan_Status'])\n",
        "E.plot.bar(stacked='True')"
      ]
    },
    {
      "cell_type": "code",
      "execution_count": null,
      "metadata": {
        "colab": {
          "base_uri": "https://localhost:8080/",
          "height": 294
        },
        "id": "FuONXk4Djjyn",
        "outputId": "b6b42f44-0d26-4737-887b-e4cdc56ad540"
      },
      "outputs": [
        {
          "data": {
            "text/plain": [
              "<matplotlib.axes._subplots.AxesSubplot at 0x21325cd4278>"
            ]
          },
          "execution_count": 33,
          "metadata": {},
          "output_type": "execute_result"
        },
        {
          "data": {
            "image/png": "[encoded data removed]",
            "text/plain": [
              "<Figure size 432x288 with 1 Axes>"
            ]
          },
          "metadata": {
            "needs_background": "light"
          },
          "output_type": "display_data"
        }
      ],
      "source": [
        "SE =pd.crosstab(df['Self_Employed'],df['Loan_Status'])\n",
        "SE.plot.bar(stacked='True')"
      ]
    },
    {
      "cell_type": "code",
      "execution_count": null,
      "metadata": {
        "colab": {
          "base_uri": "https://localhost:8080/",
          "height": 294
        },
        "id": "zTNnfdkZkWEj",
        "outputId": "b9be1ef5-03fd-4935-a573-5285ba34f4ac"
      },
      "outputs": [
        {
          "data": {
            "text/plain": [
              "<matplotlib.axes._subplots.AxesSubplot at 0x21325d31630>"
            ]
          },
          "execution_count": 34,
          "metadata": {},
          "output_type": "execute_result"
        },
        {
          "data": {
            "image/png": "[encoded data removed]",
            "text/plain": [
              "<Figure size 432x288 with 1 Axes>"
            ]
          },
          "metadata": {
            "needs_background": "light"
          },
          "output_type": "display_data"
        }
      ],
      "source": [
        "C =pd.crosstab(df['Credit_History'],df['Loan_Status'])\n",
        "C.plot.bar(stacked='True')"
      ]
    },
    {
      "cell_type": "code",
      "execution_count": null,
      "metadata": {
        "colab": {
          "base_uri": "https://localhost:8080/",
          "height": 294
        },
        "id": "6Pxhg5dkkWH2",
        "outputId": "e5865bbc-106c-42bb-a1f4-45ab045c4b93"
      },
      "outputs": [
        {
          "data": {
            "text/plain": [
              "<matplotlib.axes._subplots.AxesSubplot at 0x21325d9a828>"
            ]
          },
          "execution_count": 35,
          "metadata": {},
          "output_type": "execute_result"
        },
        {
          "data": {
            "image/png": "[encoded data removed]",
            "text/plain": [
              "<Figure size 432x288 with 1 Axes>"
            ]
          },
          "metadata": {
            "needs_background": "light"
          },
          "output_type": "display_data"
        }
      ],
      "source": [
        "P =pd.crosstab(df['Property_Area'],df['Loan_Status'])\n",
        "P.plot.bar(stacked='True')"
      ]
    },
    {
      "cell_type": "code",
      "execution_count": null,
      "metadata": {
        "colab": {
          "base_uri": "https://localhost:8080/"
        },
        "id": "OSEaVlH2jj2A",
        "outputId": "21736979-a9bf-4850-8290-e30fd956a362"
      },
      "outputs": [
        {
          "data": {
            "text/plain": [
              "Index(['Loan_ID', 'Gender', 'Married', 'Dependents', 'Education',\n",
              "       'Self_Employed', 'ApplicantIncome', 'CoapplicantIncome', 'LoanAmount',\n",
              "       'Loan_Amount_Term', 'Credit_History', 'Property_Area', 'Loan_Status'],\n",
              "      dtype='object')"
            ]
          },
          "execution_count": 36,
          "metadata": {},
          "output_type": "execute_result"
        }
      ],
      "source": [
        "df.columns"
      ]
    },
    {
      "cell_type": "markdown",
      "metadata": {
        "id": "wVirGJOzN_Bs"
      },
      "source": [
        "# Binning for Numerical Varaibles"
      ]
    },
    {
      "cell_type": "code",
      "execution_count": null,
      "metadata": {
        "colab": {
          "base_uri": "https://localhost:8080/"
        },
        "id": "Ohw1_TGJiuZ2",
        "outputId": "a172e0ca-ab36-434f-ab6d-1af4130fd7c0"
      },
      "outputs": [
        {
          "data": {
            "text/plain": [
              "count      614.000000\n",
              "mean      5403.459283\n",
              "std       6109.041673\n",
              "min        150.000000\n",
              "25%       2877.500000\n",
              "50%       3812.500000\n",
              "75%       5795.000000\n",
              "max      81000.000000\n",
              "Name: ApplicantIncome, dtype: float64"
            ]
          },
          "execution_count": 37,
          "metadata": {},
          "output_type": "execute_result"
        }
      ],
      "source": [
        "df['ApplicantIncome'].describe()"
      ]
    },
    {
      "cell_type": "code",
      "execution_count": null,
      "metadata": {
        "colab": {
          "base_uri": "https://localhost:8080/",
          "height": 368
        },
        "id": "COYMLiJ_iuf1",
        "outputId": "9671b2be-cee4-4bef-e0e6-862c3ece4720"
      },
      "outputs": [
        {
          "data": {
            "text/plain": [
              "Text(0.5,0,'ApplicantIncome')"
            ]
          },
          "execution_count": 38,
          "metadata": {},
          "output_type": "execute_result"
        },
        {
          "data": {
            "image/png": "[encoded data removed]",
            "text/plain": [
              "<Figure size 432x288 with 1 Axes>"
            ]
          },
          "metadata": {
            "needs_background": "light"
          },
          "output_type": "display_data"
        }
      ],
      "source": [
        "bins=[0,1000,2000,3000,4000,5000,6000,81000]\n",
        "bucket=['0-1000','1000-2000','2000-3000','3000-4000','4000-5000','5000-6000','6000 and above']\n",
        "df['Income_bin']=pd.cut(df['ApplicantIncome'],bins,labels=bucket)\n",
        "Applicant_Income_bin=pd.crosstab(df['Income_bin'],df['Loan_Status'])\n",
        "Applicant_Income_bin.div(Applicant_Income_bin.sum(1).astype(float), axis=0).plot(kind='bar',stacked=True)\n",
        "plt.xlabel('ApplicantIncome')"
      ]
    },
    {
      "cell_type": "code",
      "execution_count": null,
      "metadata": {
        "colab": {
          "base_uri": "https://localhost:8080/",
          "height": 284
        },
        "id": "N4gfIZvfAaRU",
        "outputId": "775f4216-b857-4340-ddd3-2393aa73c037"
      },
      "outputs": [
        {
          "data": {
            "text/html": [
              "<div>\n",
              "<style scoped>\n",
              "    .dataframe tbody tr th:only-of-type {\n",
              "        vertical-align: middle;\n",
              "    }\n",
              "\n",
              "    .dataframe tbody tr th {\n",
              "        vertical-align: top;\n",
              "    }\n",
              "\n",
              "    .dataframe thead th {\n",
              "        text-align: right;\n",
              "    }\n",
              "</style>\n",
              "<table border=\"1\" class=\"dataframe\">\n",
              "  <thead>\n",
              "    <tr style=\"text-align: right;\">\n",
              "      <th>Loan_Status</th>\n",
              "      <th>N</th>\n",
              "      <th>Y</th>\n",
              "    </tr>\n",
              "    <tr>\n",
              "      <th>Income_bin</th>\n",
              "      <th></th>\n",
              "      <th></th>\n",
              "    </tr>\n",
              "  </thead>\n",
              "  <tbody>\n",
              "    <tr>\n",
              "      <th>0-1000</th>\n",
              "      <td>3</td>\n",
              "      <td>3</td>\n",
              "    </tr>\n",
              "    <tr>\n",
              "      <th>1000-2000</th>\n",
              "      <td>13</td>\n",
              "      <td>22</td>\n",
              "    </tr>\n",
              "    <tr>\n",
              "      <th>2000-3000</th>\n",
              "      <td>38</td>\n",
              "      <td>98</td>\n",
              "    </tr>\n",
              "    <tr>\n",
              "      <th>3000-4000</th>\n",
              "      <td>47</td>\n",
              "      <td>110</td>\n",
              "    </tr>\n",
              "    <tr>\n",
              "      <th>4000-5000</th>\n",
              "      <td>32</td>\n",
              "      <td>57</td>\n",
              "    </tr>\n",
              "    <tr>\n",
              "      <th>5000-6000</th>\n",
              "      <td>13</td>\n",
              "      <td>41</td>\n",
              "    </tr>\n",
              "    <tr>\n",
              "      <th>6000 and above</th>\n",
              "      <td>46</td>\n",
              "      <td>91</td>\n",
              "    </tr>\n",
              "  </tbody>\n",
              "</table>\n",
              "</div>"
            ],
            "text/plain": [
              "Loan_Status      N    Y\n",
              "Income_bin             \n",
              "0-1000           3    3\n",
              "1000-2000       13   22\n",
              "2000-3000       38   98\n",
              "3000-4000       47  110\n",
              "4000-5000       32   57\n",
              "5000-6000       13   41\n",
              "6000 and above  46   91"
            ]
          },
          "execution_count": 39,
          "metadata": {},
          "output_type": "execute_result"
        }
      ],
      "source": [
        "Applicant_Income_bin"
      ]
    },
    {
      "cell_type": "code",
      "execution_count": null,
      "metadata": {
        "colab": {
          "base_uri": "https://localhost:8080/"
        },
        "id": "auzQ2MQk6fVR",
        "outputId": "5c7d5ae7-a1cd-4471-e34e-f3d59358047a"
      },
      "outputs": [
        {
          "data": {
            "text/plain": [
              "count      614.000000\n",
              "mean      1621.245798\n",
              "std       2926.248369\n",
              "min          0.000000\n",
              "25%          0.000000\n",
              "50%       1188.500000\n",
              "75%       2297.250000\n",
              "max      41667.000000\n",
              "Name: CoapplicantIncome, dtype: float64"
            ]
          },
          "execution_count": 40,
          "metadata": {},
          "output_type": "execute_result"
        }
      ],
      "source": [
        "df['CoapplicantIncome'].describe()"
      ]
    },
    {
      "cell_type": "code",
      "execution_count": null,
      "metadata": {
        "colab": {
          "base_uri": "https://localhost:8080/",
          "height": 368
        },
        "id": "gij8xC8TiuiE",
        "outputId": "77f6de9b-0307-4f8a-c12b-569dc6530066"
      },
      "outputs": [
        {
          "data": {
            "text/plain": [
              "Text(0.5,0,'CoapplicantIncome')"
            ]
          },
          "execution_count": 41,
          "metadata": {},
          "output_type": "execute_result"
        },
        {
          "data": {
            "image/png": "[encoded data removed]",
            "text/plain": [
              "<Figure size 432x288 with 1 Axes>"
            ]
          },
          "metadata": {
            "needs_background": "light"
          },
          "output_type": "display_data"
        }
      ],
      "source": [
        "bins=[0,500,1000,1500,2000,2500,3000,50000]\n",
        "bucket=['0-500','500-1000','1000-1500','1500-2000','2000-2500','2500-3000','3000 and above']\n",
        "df['Co_Income_bin']=pd.cut(df['CoapplicantIncome'],bins,labels=bucket)\n",
        "Co_Applicant_Income_bin=pd.crosstab(df['Co_Income_bin'],df['Loan_Status'])\n",
        "Co_Applicant_Income_bin.div(Co_Applicant_Income_bin.sum(1).astype(float), axis=0).plot(kind='bar',stacked=True)\n",
        "plt.xlabel('CoapplicantIncome')"
      ]
    },
    {
      "cell_type": "code",
      "execution_count": null,
      "metadata": {
        "colab": {
          "base_uri": "https://localhost:8080/",
          "height": 284
        },
        "id": "2Pk2y5jxAUqn",
        "outputId": "5d629245-6f0a-4f9e-ca14-1187255e8220"
      },
      "outputs": [
        {
          "data": {
            "text/html": [
              "<div>\n",
              "<style scoped>\n",
              "    .dataframe tbody tr th:only-of-type {\n",
              "        vertical-align: middle;\n",
              "    }\n",
              "\n",
              "    .dataframe tbody tr th {\n",
              "        vertical-align: top;\n",
              "    }\n",
              "\n",
              "    .dataframe thead th {\n",
              "        text-align: right;\n",
              "    }\n",
              "</style>\n",
              "<table border=\"1\" class=\"dataframe\">\n",
              "  <thead>\n",
              "    <tr style=\"text-align: right;\">\n",
              "      <th>Loan_Status</th>\n",
              "      <th>N</th>\n",
              "      <th>Y</th>\n",
              "    </tr>\n",
              "    <tr>\n",
              "      <th>Co_Income_bin</th>\n",
              "      <th></th>\n",
              "      <th></th>\n",
              "    </tr>\n",
              "  </thead>\n",
              "  <tbody>\n",
              "    <tr>\n",
              "      <th>0-500</th>\n",
              "      <td>0</td>\n",
              "      <td>6</td>\n",
              "    </tr>\n",
              "    <tr>\n",
              "      <th>500-1000</th>\n",
              "      <td>3</td>\n",
              "      <td>13</td>\n",
              "    </tr>\n",
              "    <tr>\n",
              "      <th>1000-1500</th>\n",
              "      <td>10</td>\n",
              "      <td>34</td>\n",
              "    </tr>\n",
              "    <tr>\n",
              "      <th>1500-2000</th>\n",
              "      <td>25</td>\n",
              "      <td>53</td>\n",
              "    </tr>\n",
              "    <tr>\n",
              "      <th>2000-2500</th>\n",
              "      <td>15</td>\n",
              "      <td>55</td>\n",
              "    </tr>\n",
              "    <tr>\n",
              "      <th>2500-3000</th>\n",
              "      <td>11</td>\n",
              "      <td>19</td>\n",
              "    </tr>\n",
              "    <tr>\n",
              "      <th>3000 and above</th>\n",
              "      <td>32</td>\n",
              "      <td>65</td>\n",
              "    </tr>\n",
              "  </tbody>\n",
              "</table>\n",
              "</div>"
            ],
            "text/plain": [
              "Loan_Status      N   Y\n",
              "Co_Income_bin         \n",
              "0-500            0   6\n",
              "500-1000         3  13\n",
              "1000-1500       10  34\n",
              "1500-2000       25  53\n",
              "2000-2500       15  55\n",
              "2500-3000       11  19\n",
              "3000 and above  32  65"
            ]
          },
          "execution_count": 42,
          "metadata": {},
          "output_type": "execute_result"
        }
      ],
      "source": [
        "Co_Applicant_Income_bin"
      ]
    },
    {
      "cell_type": "code",
      "execution_count": null,
      "metadata": {
        "colab": {
          "base_uri": "https://localhost:8080/"
        },
        "id": "dswZrxvjiukS",
        "outputId": "0b7fca28-8c26-4b04-faef-91536a13be51"
      },
      "outputs": [
        {
          "data": {
            "text/plain": [
              "count    592.000000\n",
              "mean     146.412162\n",
              "std       85.587325\n",
              "min        9.000000\n",
              "25%      100.000000\n",
              "50%      128.000000\n",
              "75%      168.000000\n",
              "max      700.000000\n",
              "Name: LoanAmount, dtype: float64"
            ]
          },
          "execution_count": 43,
          "metadata": {},
          "output_type": "execute_result"
        }
      ],
      "source": [
        "df['LoanAmount'].describe()"
      ]
    },
    {
      "cell_type": "code",
      "execution_count": null,
      "metadata": {
        "colab": {
          "base_uri": "https://localhost:8080/",
          "height": 329
        },
        "id": "QK6akTkNiun3",
        "outputId": "3c6c407d-9339-4273-923f-79ea7b28afd6"
      },
      "outputs": [
        {
          "data": {
            "text/plain": [
              "Text(0.5,0,'LoanAmount')"
            ]
          },
          "execution_count": 44,
          "metadata": {},
          "output_type": "execute_result"
        },
        {
          "data": {
            "image/png": "[encoded data removed]",
            "text/plain": [
              "<Figure size 432x288 with 1 Axes>"
            ]
          },
          "metadata": {
            "needs_background": "light"
          },
          "output_type": "display_data"
        }
      ],
      "source": [
        "bins=[0,10,100,200,300,700,800]\n",
        "bucket=['0-10','10-100','100-200','200-300','300-700','700 and above']\n",
        "df['LoanAmount_bin']=pd.cut(df['LoanAmount'],bins,labels=bucket)\n",
        "LoanAmount_bin=pd.crosstab(df['LoanAmount_bin'],df['Loan_Status'])\n",
        "LoanAmount_bin.div(LoanAmount_bin.sum(1).astype(float), axis=0).plot(kind='bar',stacked=True)\n",
        "plt.xlabel('LoanAmount')"
      ]
    },
    {
      "cell_type": "code",
      "execution_count": null,
      "metadata": {
        "colab": {
          "base_uri": "https://localhost:8080/",
          "height": 225
        },
        "id": "ZKAX20rf_JRR",
        "outputId": "d3bb6045-8f3f-45ce-995a-eb42b8dcddc7"
      },
      "outputs": [
        {
          "data": {
            "text/html": [
              "<div>\n",
              "<style scoped>\n",
              "    .dataframe tbody tr th:only-of-type {\n",
              "        vertical-align: middle;\n",
              "    }\n",
              "\n",
              "    .dataframe tbody tr th {\n",
              "        vertical-align: top;\n",
              "    }\n",
              "\n",
              "    .dataframe thead th {\n",
              "        text-align: right;\n",
              "    }\n",
              "</style>\n",
              "<table border=\"1\" class=\"dataframe\">\n",
              "  <thead>\n",
              "    <tr style=\"text-align: right;\">\n",
              "      <th>Loan_Status</th>\n",
              "      <th>N</th>\n",
              "      <th>Y</th>\n",
              "    </tr>\n",
              "    <tr>\n",
              "      <th>LoanAmount_bin</th>\n",
              "      <th></th>\n",
              "      <th></th>\n",
              "    </tr>\n",
              "  </thead>\n",
              "  <tbody>\n",
              "    <tr>\n",
              "      <th>0-10</th>\n",
              "      <td>1</td>\n",
              "      <td>0</td>\n",
              "    </tr>\n",
              "    <tr>\n",
              "      <th>10-100</th>\n",
              "      <td>46</td>\n",
              "      <td>107</td>\n",
              "    </tr>\n",
              "    <tr>\n",
              "      <th>100-200</th>\n",
              "      <td>103</td>\n",
              "      <td>255</td>\n",
              "    </tr>\n",
              "    <tr>\n",
              "      <th>200-300</th>\n",
              "      <td>19</td>\n",
              "      <td>32</td>\n",
              "    </tr>\n",
              "    <tr>\n",
              "      <th>300-700</th>\n",
              "      <td>12</td>\n",
              "      <td>17</td>\n",
              "    </tr>\n",
              "  </tbody>\n",
              "</table>\n",
              "</div>"
            ],
            "text/plain": [
              "Loan_Status       N    Y\n",
              "LoanAmount_bin          \n",
              "0-10              1    0\n",
              "10-100           46  107\n",
              "100-200         103  255\n",
              "200-300          19   32\n",
              "300-700          12   17"
            ]
          },
          "execution_count": 45,
          "metadata": {},
          "output_type": "execute_result"
        }
      ],
      "source": [
        "LoanAmount_bin"
      ]
    },
    {
      "cell_type": "markdown",
      "metadata": {
        "id": "OKEe249vb5OU"
      },
      "source": [
        "# Missing Value Imputation"
      ]
    },
    {
      "cell_type": "markdown",
      "metadata": {
        "id": "kDeLwg3NcY6-"
      },
      "source": [
        "# Identyfying Missing Value Counts for each varaible"
      ]
    },
    {
      "cell_type": "code",
      "execution_count": null,
      "metadata": {
        "colab": {
          "base_uri": "https://localhost:8080/"
        },
        "id": "cjM-xhvxb4fS",
        "outputId": "d4f57a13-4169-4f71-fafa-147f0c4f0038"
      },
      "outputs": [
        {
          "data": {
            "text/plain": [
              "Loan_ID                0\n",
              "Gender                13\n",
              "Married                3\n",
              "Dependents            15\n",
              "Education              0\n",
              "Self_Employed         32\n",
              "ApplicantIncome        0\n",
              "CoapplicantIncome      0\n",
              "LoanAmount            22\n",
              "Loan_Amount_Term      14\n",
              "Credit_History        50\n",
              "Property_Area          0\n",
              "Loan_Status            0\n",
              "Income_bin             0\n",
              "Co_Income_bin        273\n",
              "LoanAmount_bin        22\n",
              "dtype: int64"
            ]
          },
          "execution_count": 46,
          "metadata": {},
          "output_type": "execute_result"
        }
      ],
      "source": [
        "df.isnull().sum()"
      ]
    },
    {
      "cell_type": "markdown",
      "metadata": {
        "id": "hxSwfwIGcLGQ"
      },
      "source": [
        "numerical variables: imputation using mean or median\n",
        "\n",
        "categorical variables: imputation using mode"
      ]
    },
    {
      "cell_type": "markdown",
      "metadata": {
        "id": "dYd5voxZcsjB"
      },
      "source": [
        "# Categorical Varaibles Missing Values Imputaion"
      ]
    },
    {
      "cell_type": "code",
      "execution_count": null,
      "metadata": {
        "id": "RKgkZ5yucyEC"
      },
      "outputs": [],
      "source": [
        "df['Gender'].fillna(df['Gender'].mode()[0], inplace=True)"
      ]
    },
    {
      "cell_type": "code",
      "execution_count": null,
      "metadata": {
        "id": "vNqi0KFrcyF_"
      },
      "outputs": [],
      "source": [
        "df['Married'].fillna(df['Married'].mode()[0], inplace=True)"
      ]
    },
    {
      "cell_type": "code",
      "execution_count": null,
      "metadata": {
        "id": "TAMhOOUDcyJQ"
      },
      "outputs": [],
      "source": [
        "df['Dependents'].fillna(df['Dependents'].mode()[0], inplace=True)"
      ]
    },
    {
      "cell_type": "code",
      "execution_count": null,
      "metadata": {
        "id": "aw9v187gdaHg"
      },
      "outputs": [],
      "source": [
        "df['Self_Employed'].fillna(df['Self_Employed'].mode()[0], inplace=True)"
      ]
    },
    {
      "cell_type": "code",
      "execution_count": null,
      "metadata": {
        "id": "KCFaJH-IdaK0"
      },
      "outputs": [],
      "source": [
        "df['Credit_History'].fillna(df['Credit_History'].mode()[0], inplace=True)"
      ]
    },
    {
      "cell_type": "code",
      "execution_count": null,
      "metadata": {
        "id": "2z5etGgsA6R2"
      },
      "outputs": [],
      "source": [
        "df['Loan_Amount_Term'].fillna(df['Loan_Amount_Term'].mode()[0], inplace=True)"
      ]
    },
    {
      "cell_type": "code",
      "execution_count": null,
      "metadata": {
        "colab": {
          "base_uri": "https://localhost:8080/"
        },
        "id": "3ziM2B1Rdz1L",
        "outputId": "e48fc933-cbb9-49be-c523-278065914100"
      },
      "outputs": [
        {
          "data": {
            "text/plain": [
              "Loan_ID                0\n",
              "Gender                 0\n",
              "Married                0\n",
              "Dependents             0\n",
              "Education              0\n",
              "Self_Employed          0\n",
              "ApplicantIncome        0\n",
              "CoapplicantIncome      0\n",
              "LoanAmount            22\n",
              "Loan_Amount_Term       0\n",
              "Credit_History         0\n",
              "Property_Area          0\n",
              "Loan_Status            0\n",
              "Income_bin             0\n",
              "Co_Income_bin        273\n",
              "LoanAmount_bin        22\n",
              "dtype: int64"
            ]
          },
          "execution_count": 53,
          "metadata": {},
          "output_type": "execute_result"
        }
      ],
      "source": [
        "df.isnull().sum()"
      ]
    },
    {
      "cell_type": "markdown",
      "metadata": {
        "id": "zsTwfyCtd9GK"
      },
      "source": [
        "# Numerical Varaibles Missing Values Imputation"
      ]
    },
    {
      "cell_type": "code",
      "execution_count": null,
      "metadata": {
        "id": "6ustVAlVeBUc"
      },
      "outputs": [],
      "source": [
        "df['LoanAmount'].fillna(df['LoanAmount'].median(), inplace=True)"
      ]
    },
    {
      "cell_type": "code",
      "execution_count": null,
      "metadata": {
        "colab": {
          "base_uri": "https://localhost:8080/"
        },
        "id": "nq7mlEF2GjC2",
        "outputId": "c6c2b657-1dd1-4ca7-e4ea-48cad2436c86"
      },
      "outputs": [
        {
          "data": {
            "text/plain": [
              "Loan_ID                0\n",
              "Gender                 0\n",
              "Married                0\n",
              "Dependents             0\n",
              "Education              0\n",
              "Self_Employed          0\n",
              "ApplicantIncome        0\n",
              "CoapplicantIncome      0\n",
              "LoanAmount             0\n",
              "Loan_Amount_Term       0\n",
              "Credit_History         0\n",
              "Property_Area          0\n",
              "Loan_Status            0\n",
              "Income_bin             0\n",
              "Co_Income_bin        273\n",
              "LoanAmount_bin        22\n",
              "dtype: int64"
            ]
          },
          "execution_count": 55,
          "metadata": {},
          "output_type": "execute_result"
        }
      ],
      "source": [
        "df.isnull().sum()"
      ]
    },
    {
      "cell_type": "markdown",
      "metadata": {
        "id": "qd6zBPjmDJrn"
      },
      "source": [
        "# Removing the impact from the outliers for the certain numerical variables"
      ]
    },
    {
      "cell_type": "code",
      "execution_count": null,
      "metadata": {
        "colab": {
          "base_uri": "https://localhost:8080/",
          "height": 282
        },
        "id": "8iil8pE5ELyY",
        "outputId": "587c5c59-13e8-4a4d-85e9-be7ed8c61e73"
      },
      "outputs": [
        {
          "data": {
            "text/plain": [
              "<matplotlib.axes._subplots.AxesSubplot at 0x21325fa04a8>"
            ]
          },
          "execution_count": 56,
          "metadata": {},
          "output_type": "execute_result"
        },
        {
          "data": {
            "image/png": "[encoded data removed]",
            "text/plain": [
              "<Figure size 432x288 with 1 Axes>"
            ]
          },
          "metadata": {
            "needs_background": "light"
          },
          "output_type": "display_data"
        }
      ],
      "source": [
        "df['LoanAmount'].hist()"
      ]
    },
    {
      "cell_type": "markdown",
      "metadata": {
        "id": "PUbzHFzBEOM9"
      },
      "source": [
        "right skewness has been removed and conveted to normal distribution while converting to log transformation.this would lead to remove the impact generated by the outliers."
      ]
    },
    {
      "cell_type": "code",
      "execution_count": null,
      "metadata": {
        "id": "ninoj2zIDI5H"
      },
      "outputs": [],
      "source": [
        "df['log_LoanAmount']=np.log(df['LoanAmount'])"
      ]
    },
    {
      "cell_type": "code",
      "execution_count": null,
      "metadata": {
        "colab": {
          "base_uri": "https://localhost:8080/",
          "height": 282
        },
        "id": "eXqtl6gTDI7u",
        "outputId": "c91f7144-3ad8-4a31-e096-bc5745e38d8c"
      },
      "outputs": [
        {
          "data": {
            "text/plain": [
              "<matplotlib.axes._subplots.AxesSubplot at 0x21325f93a58>"
            ]
          },
          "execution_count": 58,
          "metadata": {},
          "output_type": "execute_result"
        },
        {
          "data": {
            "image/png": "[encoded data removed]",
            "text/plain": [
              "<Figure size 432x288 with 1 Axes>"
            ]
          },
          "metadata": {
            "needs_background": "light"
          },
          "output_type": "display_data"
        }
      ],
      "source": [
        "df['log_LoanAmount'].hist()"
      ]
    },
    {
      "cell_type": "markdown",
      "metadata": {
        "id": "wut9sz_lG1Fg"
      },
      "source": [
        "# Feature Engineering"
      ]
    },
    {
      "cell_type": "code",
      "execution_count": null,
      "metadata": {
        "id": "voOoBdA-DI9S"
      },
      "outputs": [],
      "source": [
        "df['Total_Income'] = df['ApplicantIncome']+df['CoapplicantIncome']"
      ]
    },
    {
      "cell_type": "code",
      "execution_count": null,
      "metadata": {
        "colab": {
          "base_uri": "https://localhost:8080/"
        },
        "id": "sNvkcvoFHbB9",
        "outputId": "bbf9b06e-4cc0-474d-8fbd-d5647413d458"
      },
      "outputs": [
        {
          "data": {
            "text/plain": [
              "count      614.000000\n",
              "mean      7024.705081\n",
              "std       6458.663872\n",
              "min       1442.000000\n",
              "25%       4166.000000\n",
              "50%       5416.500000\n",
              "75%       7521.750000\n",
              "max      81000.000000\n",
              "Name: Total_Income, dtype: float64"
            ]
          },
          "execution_count": 60,
          "metadata": {},
          "output_type": "execute_result"
        }
      ],
      "source": [
        "df['Total_Income'].describe()"
      ]
    },
    {
      "cell_type": "code",
      "execution_count": null,
      "metadata": {
        "colab": {
          "base_uri": "https://localhost:8080/",
          "height": 376
        },
        "id": "WvkW3TcoHsj6",
        "outputId": "90669f42-fe31-4e03-d9f6-4cd80d0967f8"
      },
      "outputs": [
        {
          "data": {
            "text/plain": [
              "Text(0.5,0,'Total_Income')"
            ]
          },
          "execution_count": 61,
          "metadata": {},
          "output_type": "execute_result"
        },
        {
          "data": {
            "image/png": "[encoded data removed]",
            "text/plain": [
              "<Figure size 432x288 with 1 Axes>"
            ]
          },
          "metadata": {
            "needs_background": "light"
          },
          "output_type": "display_data"
        }
      ],
      "source": [
        "bins=[0,2000,4000,6000,8000,90000]\n",
        "bucket=['Very_Low_Income','Low_Income','Medium_Income','High_Income','Highest_Income']\n",
        "df['Total_Income_bin']=pd.cut(df['Total_Income'],bins,labels=bucket)\n",
        "Total_Income_bin=pd.crosstab(df['Total_Income_bin'],df['Loan_Status'])\n",
        "Total_Income_bin.div(Total_Income_bin.sum(1).astype(float), axis=0).plot(kind='bar',stacked=True)\n",
        "plt.xlabel('Total_Income')"
      ]
    },
    {
      "cell_type": "code",
      "execution_count": null,
      "metadata": {
        "colab": {
          "base_uri": "https://localhost:8080/",
          "height": 225
        },
        "id": "hzF3pn4iIc-h",
        "outputId": "6c595dd6-99c7-4bfe-d268-f5c4df6b22b5"
      },
      "outputs": [
        {
          "data": {
            "text/html": [
              "<div>\n",
              "<style scoped>\n",
              "    .dataframe tbody tr th:only-of-type {\n",
              "        vertical-align: middle;\n",
              "    }\n",
              "\n",
              "    .dataframe tbody tr th {\n",
              "        vertical-align: top;\n",
              "    }\n",
              "\n",
              "    .dataframe thead th {\n",
              "        text-align: right;\n",
              "    }\n",
              "</style>\n",
              "<table border=\"1\" class=\"dataframe\">\n",
              "  <thead>\n",
              "    <tr style=\"text-align: right;\">\n",
              "      <th>Loan_Status</th>\n",
              "      <th>N</th>\n",
              "      <th>Y</th>\n",
              "    </tr>\n",
              "    <tr>\n",
              "      <th>Total_Income_bin</th>\n",
              "      <th></th>\n",
              "      <th></th>\n",
              "    </tr>\n",
              "  </thead>\n",
              "  <tbody>\n",
              "    <tr>\n",
              "      <th>Very_Low_Income</th>\n",
              "      <td>5</td>\n",
              "      <td>1</td>\n",
              "    </tr>\n",
              "    <tr>\n",
              "      <th>Low_Income</th>\n",
              "      <td>41</td>\n",
              "      <td>96</td>\n",
              "    </tr>\n",
              "    <tr>\n",
              "      <th>Medium_Income</th>\n",
              "      <td>65</td>\n",
              "      <td>159</td>\n",
              "    </tr>\n",
              "    <tr>\n",
              "      <th>High_Income</th>\n",
              "      <td>39</td>\n",
              "      <td>76</td>\n",
              "    </tr>\n",
              "    <tr>\n",
              "      <th>Highest_Income</th>\n",
              "      <td>42</td>\n",
              "      <td>90</td>\n",
              "    </tr>\n",
              "  </tbody>\n",
              "</table>\n",
              "</div>"
            ],
            "text/plain": [
              "Loan_Status        N    Y\n",
              "Total_Income_bin         \n",
              "Very_Low_Income    5    1\n",
              "Low_Income        41   96\n",
              "Medium_Income     65  159\n",
              "High_Income       39   76\n",
              "Highest_Income    42   90"
            ]
          },
          "execution_count": 62,
          "metadata": {},
          "output_type": "execute_result"
        }
      ],
      "source": [
        "Total_Income_bin"
      ]
    },
    {
      "cell_type": "code",
      "execution_count": null,
      "metadata": {
        "colab": {
          "base_uri": "https://localhost:8080/"
        },
        "id": "VrdE1nV3DJAD",
        "outputId": "b63eefad-cbcd-4740-acfc-162b6611466e"
      },
      "outputs": [
        {
          "data": {
            "text/plain": [
              "Index(['Loan_ID', 'Gender', 'Married', 'Dependents', 'Education',\n",
              "       'Self_Employed', 'ApplicantIncome', 'CoapplicantIncome', 'LoanAmount',\n",
              "       'Loan_Amount_Term', 'Credit_History', 'Property_Area', 'Loan_Status',\n",
              "       'Income_bin', 'Co_Income_bin', 'LoanAmount_bin', 'log_LoanAmount',\n",
              "       'Total_Income', 'Total_Income_bin'],\n",
              "      dtype='object')"
            ]
          },
          "execution_count": 63,
          "metadata": {},
          "output_type": "execute_result"
        }
      ],
      "source": [
        "df.columns"
      ]
    },
    {
      "cell_type": "code",
      "execution_count": null,
      "metadata": {
        "id": "Ecp7QIueLbLS"
      },
      "outputs": [],
      "source": [
        "df['Monthly_Repayment']= (df['LoanAmount']/df['Loan_Amount_Term'])"
      ]
    },
    {
      "cell_type": "code",
      "execution_count": null,
      "metadata": {
        "colab": {
          "base_uri": "https://localhost:8080/"
        },
        "id": "cLHsHZr4Lplb",
        "outputId": "f653b0e0-4ace-486e-9769-9e9a4b1cbbe9"
      },
      "outputs": [
        {
          "data": {
            "text/plain": [
              "count    614.000000\n",
              "mean       0.473687\n",
              "std        0.511134\n",
              "min        0.025000\n",
              "25%        0.288889\n",
              "50%        0.361111\n",
              "75%        0.505556\n",
              "max        9.250000\n",
              "Name: Monthly_Repayment, dtype: float64"
            ]
          },
          "execution_count": 65,
          "metadata": {},
          "output_type": "execute_result"
        }
      ],
      "source": [
        "df['Monthly_Repayment'].describe()"
      ]
    },
    {
      "cell_type": "markdown",
      "metadata": {
        "id": "nbsPs5eGN4VW"
      },
      "source": [
        "# convert Categorical variable with Numerical values."
      ]
    },
    {
      "cell_type": "code",
      "execution_count": null,
      "metadata": {
        "colab": {
          "base_uri": "https://localhost:8080/"
        },
        "id": "R2FVuciOONnm",
        "outputId": "28998f0b-9d79-403d-a5e9-a3dd9df45ab0"
      },
      "outputs": [
        {
          "data": {
            "text/plain": [
              "Semiurban    233\n",
              "Urban        202\n",
              "Rural        179\n",
              "Name: Property_Area, dtype: int64"
            ]
          },
          "execution_count": 66,
          "metadata": {},
          "output_type": "execute_result"
        }
      ],
      "source": [
        "df['Property_Area'].value_counts()"
      ]
    },
    {
      "cell_type": "code",
      "execution_count": null,
      "metadata": {
        "id": "Lezqnce6OHNI"
      },
      "outputs": [],
      "source": [
        "df.Gender = df.Gender.replace({\"Male\": 1, \"Female\" : 0})\n"
      ]
    },
    {
      "cell_type": "code",
      "execution_count": null,
      "metadata": {
        "id": "uk0716NwOHO_"
      },
      "outputs": [],
      "source": [
        "df.Married = df.Married.replace({\"Yes\": 1, \"No\" : 0})"
      ]
    },
    {
      "cell_type": "code",
      "execution_count": null,
      "metadata": {
        "id": "MVSrLutTOHSZ"
      },
      "outputs": [],
      "source": [
        "df.Self_Employed = df.Self_Employed.replace({\"Yes\": 1, \"No\" : 0})"
      ]
    },
    {
      "cell_type": "code",
      "execution_count": null,
      "metadata": {
        "id": "1bnWurIePSTu"
      },
      "outputs": [],
      "source": [
        "df.Education = df.Education.replace({\"Graduate\": 1, \"Not Graduate\" : 0})"
      ]
    },
    {
      "cell_type": "code",
      "execution_count": null,
      "metadata": {
        "id": "wOjQMxt1N-7H"
      },
      "outputs": [],
      "source": [
        "df.Loan_Status = df.Loan_Status.replace({\"Y\": 1, \"N\" : 0})\n"
      ]
    },
    {
      "cell_type": "markdown",
      "metadata": {
        "id": "_A922Y11QZDb"
      },
      "source": [
        "# Property_Area, Dependents and Education has multiple values so LabelEncoder from sklearn package should be used to convert the same to numerical values."
      ]
    },
    {
      "cell_type": "code",
      "execution_count": null,
      "metadata": {
        "id": "_cCp9iRyQjz0"
      },
      "outputs": [],
      "source": [
        "from sklearn.preprocessing import LabelEncoder\n",
        "f = ['Property_Area','Education', 'Dependents']\n",
        "l = LabelEncoder()\n",
        "for col in f:\n",
        "    df[col] = l.fit_transform(df[col])"
      ]
    },
    {
      "cell_type": "code",
      "execution_count": null,
      "metadata": {
        "colab": {
          "base_uri": "https://localhost:8080/",
          "height": 288
        },
        "id": "n4vumDb6Q8sz",
        "outputId": "f5ca8aae-a65d-4782-9677-74dcfb24c638"
      },
      "outputs": [
        {
          "data": {
            "text/html": [
              "<div>\n",
              "<style scoped>\n",
              "    .dataframe tbody tr th:only-of-type {\n",
              "        vertical-align: middle;\n",
              "    }\n",
              "\n",
              "    .dataframe tbody tr th {\n",
              "        vertical-align: top;\n",
              "    }\n",
              "\n",
              "    .dataframe thead th {\n",
              "        text-align: right;\n",
              "    }\n",
              "</style>\n",
              "<table border=\"1\" class=\"dataframe\">\n",
              "  <thead>\n",
              "    <tr style=\"text-align: right;\">\n",
              "      <th></th>\n",
              "      <th>Loan_ID</th>\n",
              "      <th>Gender</th>\n",
              "      <th>Married</th>\n",
              "      <th>Dependents</th>\n",
              "      <th>Education</th>\n",
              "      <th>Self_Employed</th>\n",
              "      <th>ApplicantIncome</th>\n",
              "      <th>CoapplicantIncome</th>\n",
              "      <th>LoanAmount</th>\n",
              "      <th>Loan_Amount_Term</th>\n",
              "      <th>Credit_History</th>\n",
              "      <th>Property_Area</th>\n",
              "      <th>Loan_Status</th>\n",
              "      <th>Income_bin</th>\n",
              "      <th>Co_Income_bin</th>\n",
              "      <th>LoanAmount_bin</th>\n",
              "      <th>log_LoanAmount</th>\n",
              "      <th>Total_Income</th>\n",
              "      <th>Total_Income_bin</th>\n",
              "      <th>Monthly_Repayment</th>\n",
              "    </tr>\n",
              "  </thead>\n",
              "  <tbody>\n",
              "    <tr>\n",
              "      <th>0</th>\n",
              "      <td>LP001002</td>\n",
              "      <td>1</td>\n",
              "      <td>0</td>\n",
              "      <td>0</td>\n",
              "      <td>1</td>\n",
              "      <td>0</td>\n",
              "      <td>5849</td>\n",
              "      <td>0.0</td>\n",
              "      <td>128.0</td>\n",
              "      <td>360.0</td>\n",
              "      <td>1.0</td>\n",
              "      <td>2</td>\n",
              "      <td>1</td>\n",
              "      <td>5000-6000</td>\n",
              "      <td>NaN</td>\n",
              "      <td>NaN</td>\n",
              "      <td>4.852030</td>\n",
              "      <td>5849.0</td>\n",
              "      <td>Medium_Income</td>\n",
              "      <td>0.355556</td>\n",
              "    </tr>\n",
              "    <tr>\n",
              "      <th>1</th>\n",
              "      <td>LP001003</td>\n",
              "      <td>1</td>\n",
              "      <td>1</td>\n",
              "      <td>1</td>\n",
              "      <td>1</td>\n",
              "      <td>0</td>\n",
              "      <td>4583</td>\n",
              "      <td>1508.0</td>\n",
              "      <td>128.0</td>\n",
              "      <td>360.0</td>\n",
              "      <td>1.0</td>\n",
              "      <td>0</td>\n",
              "      <td>0</td>\n",
              "      <td>4000-5000</td>\n",
              "      <td>1500-2000</td>\n",
              "      <td>100-200</td>\n",
              "      <td>4.852030</td>\n",
              "      <td>6091.0</td>\n",
              "      <td>High_Income</td>\n",
              "      <td>0.355556</td>\n",
              "    </tr>\n",
              "    <tr>\n",
              "      <th>2</th>\n",
              "      <td>LP001005</td>\n",
              "      <td>1</td>\n",
              "      <td>1</td>\n",
              "      <td>0</td>\n",
              "      <td>1</td>\n",
              "      <td>1</td>\n",
              "      <td>3000</td>\n",
              "      <td>0.0</td>\n",
              "      <td>66.0</td>\n",
              "      <td>360.0</td>\n",
              "      <td>1.0</td>\n",
              "      <td>2</td>\n",
              "      <td>1</td>\n",
              "      <td>2000-3000</td>\n",
              "      <td>NaN</td>\n",
              "      <td>10-100</td>\n",
              "      <td>4.189655</td>\n",
              "      <td>3000.0</td>\n",
              "      <td>Low_Income</td>\n",
              "      <td>0.183333</td>\n",
              "    </tr>\n",
              "    <tr>\n",
              "      <th>3</th>\n",
              "      <td>LP001006</td>\n",
              "      <td>1</td>\n",
              "      <td>1</td>\n",
              "      <td>0</td>\n",
              "      <td>0</td>\n",
              "      <td>0</td>\n",
              "      <td>2583</td>\n",
              "      <td>2358.0</td>\n",
              "      <td>120.0</td>\n",
              "      <td>360.0</td>\n",
              "      <td>1.0</td>\n",
              "      <td>2</td>\n",
              "      <td>1</td>\n",
              "      <td>2000-3000</td>\n",
              "      <td>2000-2500</td>\n",
              "      <td>100-200</td>\n",
              "      <td>4.787492</td>\n",
              "      <td>4941.0</td>\n",
              "      <td>Medium_Income</td>\n",
              "      <td>0.333333</td>\n",
              "    </tr>\n",
              "    <tr>\n",
              "      <th>4</th>\n",
              "      <td>LP001008</td>\n",
              "      <td>1</td>\n",
              "      <td>0</td>\n",
              "      <td>0</td>\n",
              "      <td>1</td>\n",
              "      <td>0</td>\n",
              "      <td>6000</td>\n",
              "      <td>0.0</td>\n",
              "      <td>141.0</td>\n",
              "      <td>360.0</td>\n",
              "      <td>1.0</td>\n",
              "      <td>2</td>\n",
              "      <td>1</td>\n",
              "      <td>5000-6000</td>\n",
              "      <td>NaN</td>\n",
              "      <td>100-200</td>\n",
              "      <td>4.948760</td>\n",
              "      <td>6000.0</td>\n",
              "      <td>Medium_Income</td>\n",
              "      <td>0.391667</td>\n",
              "    </tr>\n",
              "  </tbody>\n",
              "</table>\n",
              "</div>"
            ],
            "text/plain": [
              "    Loan_ID  Gender  Married  Dependents  Education  Self_Employed  \\\n",
              "0  LP001002       1        0           0          1              0   \n",
              "1  LP001003       1        1           1          1              0   \n",
              "2  LP001005       1        1           0          1              1   \n",
              "3  LP001006       1        1           0          0              0   \n",
              "4  LP001008       1        0           0          1              0   \n",
              "\n",
              "   ApplicantIncome  CoapplicantIncome  LoanAmount  Loan_Amount_Term  \\\n",
              "0             5849                0.0       128.0             360.0   \n",
              "1             4583             1508.0       128.0             360.0   \n",
              "2             3000                0.0        66.0             360.0   \n",
              "3             2583             2358.0       120.0             360.0   \n",
              "4             6000                0.0       141.0             360.0   \n",
              "\n",
              "   Credit_History  Property_Area  Loan_Status Income_bin Co_Income_bin  \\\n",
              "0             1.0              2            1  5000-6000           NaN   \n",
              "1             1.0              0            0  4000-5000     1500-2000   \n",
              "2             1.0              2            1  2000-3000           NaN   \n",
              "3             1.0              2            1  2000-3000     2000-2500   \n",
              "4             1.0              2            1  5000-6000           NaN   \n",
              "\n",
              "  LoanAmount_bin  log_LoanAmount  Total_Income Total_Income_bin  \\\n",
              "0            NaN        4.852030        5849.0    Medium_Income   \n",
              "1        100-200        4.852030        6091.0      High_Income   \n",
              "2         10-100        4.189655        3000.0       Low_Income   \n",
              "3        100-200        4.787492        4941.0    Medium_Income   \n",
              "4        100-200        4.948760        6000.0    Medium_Income   \n",
              "\n",
              "   Monthly_Repayment  \n",
              "0           0.355556  \n",
              "1           0.355556  \n",
              "2           0.183333  \n",
              "3           0.333333  \n",
              "4           0.391667  "
            ]
          },
          "execution_count": 73,
          "metadata": {},
          "output_type": "execute_result"
        }
      ],
      "source": [
        "df.head()"
      ]
    },
    {
      "cell_type": "markdown",
      "metadata": {
        "id": "L-Zt3XM1SuT9"
      },
      "source": [
        "# Drop the Income and Loan Amount Bins from the Dataset"
      ]
    },
    {
      "cell_type": "code",
      "execution_count": null,
      "metadata": {
        "id": "ni8oTMz1S0KL"
      },
      "outputs": [],
      "source": [
        "df=df.drop(['Income_bin', 'Co_Income_bin', 'LoanAmount_bin', 'Total_Income_bin'], axis=1)"
      ]
    },
    {
      "cell_type": "code",
      "execution_count": null,
      "metadata": {
        "colab": {
          "base_uri": "https://localhost:8080/",
          "height": 259
        },
        "id": "HQut411OS0Mw",
        "outputId": "83098d43-4b03-4998-ae04-b2b88e4ecca5"
      },
      "outputs": [
        {
          "data": {
            "text/html": [
              "<div>\n",
              "<style scoped>\n",
              "    .dataframe tbody tr th:only-of-type {\n",
              "        vertical-align: middle;\n",
              "    }\n",
              "\n",
              "    .dataframe tbody tr th {\n",
              "        vertical-align: top;\n",
              "    }\n",
              "\n",
              "    .dataframe thead th {\n",
              "        text-align: right;\n",
              "    }\n",
              "</style>\n",
              "<table border=\"1\" class=\"dataframe\">\n",
              "  <thead>\n",
              "    <tr style=\"text-align: right;\">\n",
              "      <th></th>\n",
              "      <th>Loan_ID</th>\n",
              "      <th>Gender</th>\n",
              "      <th>Married</th>\n",
              "      <th>Dependents</th>\n",
              "      <th>Education</th>\n",
              "      <th>Self_Employed</th>\n",
              "      <th>ApplicantIncome</th>\n",
              "      <th>CoapplicantIncome</th>\n",
              "      <th>LoanAmount</th>\n",
              "      <th>Loan_Amount_Term</th>\n",
              "      <th>Credit_History</th>\n",
              "      <th>Property_Area</th>\n",
              "      <th>Loan_Status</th>\n",
              "      <th>log_LoanAmount</th>\n",
              "      <th>Total_Income</th>\n",
              "      <th>Monthly_Repayment</th>\n",
              "    </tr>\n",
              "  </thead>\n",
              "  <tbody>\n",
              "    <tr>\n",
              "      <th>0</th>\n",
              "      <td>LP001002</td>\n",
              "      <td>1</td>\n",
              "      <td>0</td>\n",
              "      <td>0</td>\n",
              "      <td>1</td>\n",
              "      <td>0</td>\n",
              "      <td>5849</td>\n",
              "      <td>0.0</td>\n",
              "      <td>128.0</td>\n",
              "      <td>360.0</td>\n",
              "      <td>1.0</td>\n",
              "      <td>2</td>\n",
              "      <td>1</td>\n",
              "      <td>4.852030</td>\n",
              "      <td>5849.0</td>\n",
              "      <td>0.355556</td>\n",
              "    </tr>\n",
              "    <tr>\n",
              "      <th>1</th>\n",
              "      <td>LP001003</td>\n",
              "      <td>1</td>\n",
              "      <td>1</td>\n",
              "      <td>1</td>\n",
              "      <td>1</td>\n",
              "      <td>0</td>\n",
              "      <td>4583</td>\n",
              "      <td>1508.0</td>\n",
              "      <td>128.0</td>\n",
              "      <td>360.0</td>\n",
              "      <td>1.0</td>\n",
              "      <td>0</td>\n",
              "      <td>0</td>\n",
              "      <td>4.852030</td>\n",
              "      <td>6091.0</td>\n",
              "      <td>0.355556</td>\n",
              "    </tr>\n",
              "    <tr>\n",
              "      <th>2</th>\n",
              "      <td>LP001005</td>\n",
              "      <td>1</td>\n",
              "      <td>1</td>\n",
              "      <td>0</td>\n",
              "      <td>1</td>\n",
              "      <td>1</td>\n",
              "      <td>3000</td>\n",
              "      <td>0.0</td>\n",
              "      <td>66.0</td>\n",
              "      <td>360.0</td>\n",
              "      <td>1.0</td>\n",
              "      <td>2</td>\n",
              "      <td>1</td>\n",
              "      <td>4.189655</td>\n",
              "      <td>3000.0</td>\n",
              "      <td>0.183333</td>\n",
              "    </tr>\n",
              "    <tr>\n",
              "      <th>3</th>\n",
              "      <td>LP001006</td>\n",
              "      <td>1</td>\n",
              "      <td>1</td>\n",
              "      <td>0</td>\n",
              "      <td>0</td>\n",
              "      <td>0</td>\n",
              "      <td>2583</td>\n",
              "      <td>2358.0</td>\n",
              "      <td>120.0</td>\n",
              "      <td>360.0</td>\n",
              "      <td>1.0</td>\n",
              "      <td>2</td>\n",
              "      <td>1</td>\n",
              "      <td>4.787492</td>\n",
              "      <td>4941.0</td>\n",
              "      <td>0.333333</td>\n",
              "    </tr>\n",
              "    <tr>\n",
              "      <th>4</th>\n",
              "      <td>LP001008</td>\n",
              "      <td>1</td>\n",
              "      <td>0</td>\n",
              "      <td>0</td>\n",
              "      <td>1</td>\n",
              "      <td>0</td>\n",
              "      <td>6000</td>\n",
              "      <td>0.0</td>\n",
              "      <td>141.0</td>\n",
              "      <td>360.0</td>\n",
              "      <td>1.0</td>\n",
              "      <td>2</td>\n",
              "      <td>1</td>\n",
              "      <td>4.948760</td>\n",
              "      <td>6000.0</td>\n",
              "      <td>0.391667</td>\n",
              "    </tr>\n",
              "  </tbody>\n",
              "</table>\n",
              "</div>"
            ],
            "text/plain": [
              "    Loan_ID  Gender  Married  Dependents  Education  Self_Employed  \\\n",
              "0  LP001002       1        0           0          1              0   \n",
              "1  LP001003       1        1           1          1              0   \n",
              "2  LP001005       1        1           0          1              1   \n",
              "3  LP001006       1        1           0          0              0   \n",
              "4  LP001008       1        0           0          1              0   \n",
              "\n",
              "   ApplicantIncome  CoapplicantIncome  LoanAmount  Loan_Amount_Term  \\\n",
              "0             5849                0.0       128.0             360.0   \n",
              "1             4583             1508.0       128.0             360.0   \n",
              "2             3000                0.0        66.0             360.0   \n",
              "3             2583             2358.0       120.0             360.0   \n",
              "4             6000                0.0       141.0             360.0   \n",
              "\n",
              "   Credit_History  Property_Area  Loan_Status  log_LoanAmount  Total_Income  \\\n",
              "0             1.0              2            1        4.852030        5849.0   \n",
              "1             1.0              0            0        4.852030        6091.0   \n",
              "2             1.0              2            1        4.189655        3000.0   \n",
              "3             1.0              2            1        4.787492        4941.0   \n",
              "4             1.0              2            1        4.948760        6000.0   \n",
              "\n",
              "   Monthly_Repayment  \n",
              "0           0.355556  \n",
              "1           0.355556  \n",
              "2           0.183333  \n",
              "3           0.333333  \n",
              "4           0.391667  "
            ]
          },
          "execution_count": 75,
          "metadata": {},
          "output_type": "execute_result"
        }
      ],
      "source": [
        "df.head()"
      ]
    },
    {
      "cell_type": "markdown",
      "metadata": {
        "id": "fi6wciMbTXsa"
      },
      "source": [
        "Drop the \"Applicant Income\" and \"CoApplicant Income\",\"LoanAmount\",\"Loan_Amount_Term\" from the Dataset Since we have used those varaibles to obtain some new varaibles like \"Total Income\",\"Monthly Repayment\".Highest Correlated features should be removed,in order to obtain the accurate model."
      ]
    },
    {
      "cell_type": "code",
      "execution_count": null,
      "metadata": {
        "id": "ByF8UNH0S0Pv"
      },
      "outputs": [],
      "source": [
        "df=df.drop(['ApplicantIncome','CoapplicantIncome','LoanAmount','Loan_Amount_Term'], axis=1)"
      ]
    },
    {
      "cell_type": "code",
      "execution_count": null,
      "metadata": {
        "colab": {
          "base_uri": "https://localhost:8080/",
          "height": 613
        },
        "id": "-Ut0YUsATsrw",
        "outputId": "933477f7-4e49-4bac-91e6-917d3e484f9e"
      },
      "outputs": [
        {
          "data": {
            "text/plain": [
              "<matplotlib.axes._subplots.AxesSubplot at 0x21336575278>"
            ]
          },
          "execution_count": 77,
          "metadata": {},
          "output_type": "execute_result"
        },
        {
          "data": {
            "image/png": "[encoded data removed]",
            "text/plain": [
              "<Figure size 1080x576 with 1 Axes>"
            ]
          },
          "metadata": {
            "needs_background": "light"
          },
          "output_type": "display_data"
        }
      ],
      "source": [
        "correlation =df.corr()\n",
        "import seaborn as sns\n",
        "f, ax = plt.subplots(figsize=(15,8))\n",
        "sns.heatmap(correlation,cbar=0, linewidths=2,vmax=1, vmin=0, square=True, cmap='Blues',annot=True)"
      ]
    },
    {
      "cell_type": "code",
      "execution_count": null,
      "metadata": {
        "colab": {
          "base_uri": "https://localhost:8080/",
          "height": 353
        },
        "id": "C-yRL70mh2AP",
        "outputId": "fe89259f-fc8a-447d-8149-17aa77f14f7c"
      },
      "outputs": [
        {
          "data": {
            "text/plain": [
              "<matplotlib.axes._subplots.AxesSubplot at 0x213368f8da0>"
            ]
          },
          "execution_count": 78,
          "metadata": {},
          "output_type": "execute_result"
        },
        {
          "data": {
            "image/png": "[encoded data removed]",
            "text/plain": [
              "<Figure size 432x288 with 1 Axes>"
            ]
          },
          "metadata": {
            "needs_background": "light"
          },
          "output_type": "display_data"
        }
      ],
      "source": [
        "sns.distplot(df['Total_Income'])"
      ]
    },
    {
      "cell_type": "code",
      "execution_count": null,
      "metadata": {
        "colab": {
          "base_uri": "https://localhost:8080/",
          "height": 353
        },
        "id": "7guESuwSVX2D",
        "outputId": "6c419562-6ddf-4635-b78a-4bde8fa84fc4"
      },
      "outputs": [
        {
          "data": {
            "text/plain": [
              "<matplotlib.axes._subplots.AxesSubplot at 0x2132601f438>"
            ]
          },
          "execution_count": 79,
          "metadata": {},
          "output_type": "execute_result"
        },
        {
          "data": {
            "image/png": "[encoded data removed]",
            "text/plain": [
              "<Figure size 432x288 with 1 Axes>"
            ]
          },
          "metadata": {
            "needs_background": "light"
          },
          "output_type": "display_data"
        }
      ],
      "source": [
        "df['Total_Income_log'] = np.log(df['Total_Income'])\n",
        "sns.distplot(df['Total_Income_log'])"
      ]
    },
    {
      "cell_type": "code",
      "execution_count": null,
      "metadata": {
        "colab": {
          "base_uri": "https://localhost:8080/",
          "height": 353
        },
        "id": "rwXdmR3Ph8go",
        "outputId": "accd366c-71e7-4328-ee4a-e08ed0c57455"
      },
      "outputs": [
        {
          "data": {
            "text/plain": [
              "<matplotlib.axes._subplots.AxesSubplot at 0x213368f8828>"
            ]
          },
          "execution_count": 80,
          "metadata": {},
          "output_type": "execute_result"
        },
        {
          "data": {
            "image/png": "[encoded data removed]",
            "text/plain": [
              "<Figure size 432x288 with 1 Axes>"
            ]
          },
          "metadata": {
            "needs_background": "light"
          },
          "output_type": "display_data"
        }
      ],
      "source": [
        "sns.distplot(df['Monthly_Repayment'])"
      ]
    },
    {
      "cell_type": "code",
      "execution_count": null,
      "metadata": {
        "colab": {
          "base_uri": "https://localhost:8080/",
          "height": 353
        },
        "id": "sPw4Z1U4bM56",
        "outputId": "0d910ce2-26d7-437b-9a71-15dfbd79aa7f"
      },
      "outputs": [
        {
          "data": {
            "text/plain": [
              "<matplotlib.axes._subplots.AxesSubplot at 0x213367d1668>"
            ]
          },
          "execution_count": 81,
          "metadata": {},
          "output_type": "execute_result"
        },
        {
          "data": {
            "image/png": "[encoded data removed]",
            "text/plain": [
              "<Figure size 432x288 with 1 Axes>"
            ]
          },
          "metadata": {
            "needs_background": "light"
          },
          "output_type": "display_data"
        }
      ],
      "source": [
        "df['Monthly_Repayment_log'] = np.log(df['Monthly_Repayment'])\n",
        "sns.distplot(df['Monthly_Repayment_log'])"
      ]
    },
    {
      "cell_type": "code",
      "execution_count": null,
      "metadata": {
        "colab": {
          "base_uri": "https://localhost:8080/",
          "height": 259
        },
        "id": "UrhnrtCGbebr",
        "outputId": "8a9b5505-270f-43ac-a7f3-b51da9de2850"
      },
      "outputs": [
        {
          "data": {
            "text/html": [
              "<div>\n",
              "<style scoped>\n",
              "    .dataframe tbody tr th:only-of-type {\n",
              "        vertical-align: middle;\n",
              "    }\n",
              "\n",
              "    .dataframe tbody tr th {\n",
              "        vertical-align: top;\n",
              "    }\n",
              "\n",
              "    .dataframe thead th {\n",
              "        text-align: right;\n",
              "    }\n",
              "</style>\n",
              "<table border=\"1\" class=\"dataframe\">\n",
              "  <thead>\n",
              "    <tr style=\"text-align: right;\">\n",
              "      <th></th>\n",
              "      <th>Loan_ID</th>\n",
              "      <th>Gender</th>\n",
              "      <th>Married</th>\n",
              "      <th>Dependents</th>\n",
              "      <th>Education</th>\n",
              "      <th>Self_Employed</th>\n",
              "      <th>Credit_History</th>\n",
              "      <th>Property_Area</th>\n",
              "      <th>Loan_Status</th>\n",
              "      <th>log_LoanAmount</th>\n",
              "      <th>Total_Income</th>\n",
              "      <th>Monthly_Repayment</th>\n",
              "      <th>Total_Income_log</th>\n",
              "      <th>Monthly_Repayment_log</th>\n",
              "    </tr>\n",
              "  </thead>\n",
              "  <tbody>\n",
              "    <tr>\n",
              "      <th>0</th>\n",
              "      <td>LP001002</td>\n",
              "      <td>1</td>\n",
              "      <td>0</td>\n",
              "      <td>0</td>\n",
              "      <td>1</td>\n",
              "      <td>0</td>\n",
              "      <td>1.0</td>\n",
              "      <td>2</td>\n",
              "      <td>1</td>\n",
              "      <td>4.852030</td>\n",
              "      <td>5849.0</td>\n",
              "      <td>0.355556</td>\n",
              "      <td>8.674026</td>\n",
              "      <td>-1.034074</td>\n",
              "    </tr>\n",
              "    <tr>\n",
              "      <th>1</th>\n",
              "      <td>LP001003</td>\n",
              "      <td>1</td>\n",
              "      <td>1</td>\n",
              "      <td>1</td>\n",
              "      <td>1</td>\n",
              "      <td>0</td>\n",
              "      <td>1.0</td>\n",
              "      <td>0</td>\n",
              "      <td>0</td>\n",
              "      <td>4.852030</td>\n",
              "      <td>6091.0</td>\n",
              "      <td>0.355556</td>\n",
              "      <td>8.714568</td>\n",
              "      <td>-1.034074</td>\n",
              "    </tr>\n",
              "    <tr>\n",
              "      <th>2</th>\n",
              "      <td>LP001005</td>\n",
              "      <td>1</td>\n",
              "      <td>1</td>\n",
              "      <td>0</td>\n",
              "      <td>1</td>\n",
              "      <td>1</td>\n",
              "      <td>1.0</td>\n",
              "      <td>2</td>\n",
              "      <td>1</td>\n",
              "      <td>4.189655</td>\n",
              "      <td>3000.0</td>\n",
              "      <td>0.183333</td>\n",
              "      <td>8.006368</td>\n",
              "      <td>-1.696449</td>\n",
              "    </tr>\n",
              "    <tr>\n",
              "      <th>3</th>\n",
              "      <td>LP001006</td>\n",
              "      <td>1</td>\n",
              "      <td>1</td>\n",
              "      <td>0</td>\n",
              "      <td>0</td>\n",
              "      <td>0</td>\n",
              "      <td>1.0</td>\n",
              "      <td>2</td>\n",
              "      <td>1</td>\n",
              "      <td>4.787492</td>\n",
              "      <td>4941.0</td>\n",
              "      <td>0.333333</td>\n",
              "      <td>8.505323</td>\n",
              "      <td>-1.098612</td>\n",
              "    </tr>\n",
              "    <tr>\n",
              "      <th>4</th>\n",
              "      <td>LP001008</td>\n",
              "      <td>1</td>\n",
              "      <td>0</td>\n",
              "      <td>0</td>\n",
              "      <td>1</td>\n",
              "      <td>0</td>\n",
              "      <td>1.0</td>\n",
              "      <td>2</td>\n",
              "      <td>1</td>\n",
              "      <td>4.948760</td>\n",
              "      <td>6000.0</td>\n",
              "      <td>0.391667</td>\n",
              "      <td>8.699515</td>\n",
              "      <td>-0.937344</td>\n",
              "    </tr>\n",
              "  </tbody>\n",
              "</table>\n",
              "</div>"
            ],
            "text/plain": [
              "    Loan_ID  Gender  Married  Dependents  Education  Self_Employed  \\\n",
              "0  LP001002       1        0           0          1              0   \n",
              "1  LP001003       1        1           1          1              0   \n",
              "2  LP001005       1        1           0          1              1   \n",
              "3  LP001006       1        1           0          0              0   \n",
              "4  LP001008       1        0           0          1              0   \n",
              "\n",
              "   Credit_History  Property_Area  Loan_Status  log_LoanAmount  Total_Income  \\\n",
              "0             1.0              2            1        4.852030        5849.0   \n",
              "1             1.0              0            0        4.852030        6091.0   \n",
              "2             1.0              2            1        4.189655        3000.0   \n",
              "3             1.0              2            1        4.787492        4941.0   \n",
              "4             1.0              2            1        4.948760        6000.0   \n",
              "\n",
              "   Monthly_Repayment  Total_Income_log  Monthly_Repayment_log  \n",
              "0           0.355556          8.674026              -1.034074  \n",
              "1           0.355556          8.714568              -1.034074  \n",
              "2           0.183333          8.006368              -1.696449  \n",
              "3           0.333333          8.505323              -1.098612  \n",
              "4           0.391667          8.699515              -0.937344  "
            ]
          },
          "execution_count": 82,
          "metadata": {},
          "output_type": "execute_result"
        }
      ],
      "source": [
        "df.head()"
      ]
    },
    {
      "cell_type": "code",
      "execution_count": null,
      "metadata": {
        "id": "PYYf2XXIblbf"
      },
      "outputs": [],
      "source": [
        "df=df.drop(['Total_Income','Monthly_Repayment'],axis=1)"
      ]
    },
    {
      "cell_type": "code",
      "execution_count": null,
      "metadata": {
        "colab": {
          "base_uri": "https://localhost:8080/",
          "height": 195
        },
        "id": "ktr_ocI1bzLp",
        "outputId": "4c7df3e3-5a20-4be1-c55b-b22fbe448394"
      },
      "outputs": [
        {
          "data": {
            "text/html": [
              "<div>\n",
              "<style scoped>\n",
              "    .dataframe tbody tr th:only-of-type {\n",
              "        vertical-align: middle;\n",
              "    }\n",
              "\n",
              "    .dataframe tbody tr th {\n",
              "        vertical-align: top;\n",
              "    }\n",
              "\n",
              "    .dataframe thead th {\n",
              "        text-align: right;\n",
              "    }\n",
              "</style>\n",
              "<table border=\"1\" class=\"dataframe\">\n",
              "  <thead>\n",
              "    <tr style=\"text-align: right;\">\n",
              "      <th></th>\n",
              "      <th>Loan_ID</th>\n",
              "      <th>Gender</th>\n",
              "      <th>Married</th>\n",
              "      <th>Dependents</th>\n",
              "      <th>Education</th>\n",
              "      <th>Self_Employed</th>\n",
              "      <th>Credit_History</th>\n",
              "      <th>Property_Area</th>\n",
              "      <th>Loan_Status</th>\n",
              "      <th>log_LoanAmount</th>\n",
              "      <th>Total_Income_log</th>\n",
              "      <th>Monthly_Repayment_log</th>\n",
              "    </tr>\n",
              "  </thead>\n",
              "  <tbody>\n",
              "    <tr>\n",
              "      <th>0</th>\n",
              "      <td>LP001002</td>\n",
              "      <td>1</td>\n",
              "      <td>0</td>\n",
              "      <td>0</td>\n",
              "      <td>1</td>\n",
              "      <td>0</td>\n",
              "      <td>1.0</td>\n",
              "      <td>2</td>\n",
              "      <td>1</td>\n",
              "      <td>4.852030</td>\n",
              "      <td>8.674026</td>\n",
              "      <td>-1.034074</td>\n",
              "    </tr>\n",
              "    <tr>\n",
              "      <th>1</th>\n",
              "      <td>LP001003</td>\n",
              "      <td>1</td>\n",
              "      <td>1</td>\n",
              "      <td>1</td>\n",
              "      <td>1</td>\n",
              "      <td>0</td>\n",
              "      <td>1.0</td>\n",
              "      <td>0</td>\n",
              "      <td>0</td>\n",
              "      <td>4.852030</td>\n",
              "      <td>8.714568</td>\n",
              "      <td>-1.034074</td>\n",
              "    </tr>\n",
              "    <tr>\n",
              "      <th>2</th>\n",
              "      <td>LP001005</td>\n",
              "      <td>1</td>\n",
              "      <td>1</td>\n",
              "      <td>0</td>\n",
              "      <td>1</td>\n",
              "      <td>1</td>\n",
              "      <td>1.0</td>\n",
              "      <td>2</td>\n",
              "      <td>1</td>\n",
              "      <td>4.189655</td>\n",
              "      <td>8.006368</td>\n",
              "      <td>-1.696449</td>\n",
              "    </tr>\n",
              "    <tr>\n",
              "      <th>3</th>\n",
              "      <td>LP001006</td>\n",
              "      <td>1</td>\n",
              "      <td>1</td>\n",
              "      <td>0</td>\n",
              "      <td>0</td>\n",
              "      <td>0</td>\n",
              "      <td>1.0</td>\n",
              "      <td>2</td>\n",
              "      <td>1</td>\n",
              "      <td>4.787492</td>\n",
              "      <td>8.505323</td>\n",
              "      <td>-1.098612</td>\n",
              "    </tr>\n",
              "    <tr>\n",
              "      <th>4</th>\n",
              "      <td>LP001008</td>\n",
              "      <td>1</td>\n",
              "      <td>0</td>\n",
              "      <td>0</td>\n",
              "      <td>1</td>\n",
              "      <td>0</td>\n",
              "      <td>1.0</td>\n",
              "      <td>2</td>\n",
              "      <td>1</td>\n",
              "      <td>4.948760</td>\n",
              "      <td>8.699515</td>\n",
              "      <td>-0.937344</td>\n",
              "    </tr>\n",
              "  </tbody>\n",
              "</table>\n",
              "</div>"
            ],
            "text/plain": [
              "    Loan_ID  Gender  Married  Dependents  Education  Self_Employed  \\\n",
              "0  LP001002       1        0           0          1              0   \n",
              "1  LP001003       1        1           1          1              0   \n",
              "2  LP001005       1        1           0          1              1   \n",
              "3  LP001006       1        1           0          0              0   \n",
              "4  LP001008       1        0           0          1              0   \n",
              "\n",
              "   Credit_History  Property_Area  Loan_Status  log_LoanAmount  \\\n",
              "0             1.0              2            1        4.852030   \n",
              "1             1.0              0            0        4.852030   \n",
              "2             1.0              2            1        4.189655   \n",
              "3             1.0              2            1        4.787492   \n",
              "4             1.0              2            1        4.948760   \n",
              "\n",
              "   Total_Income_log  Monthly_Repayment_log  \n",
              "0          8.674026              -1.034074  \n",
              "1          8.714568              -1.034074  \n",
              "2          8.006368              -1.696449  \n",
              "3          8.505323              -1.098612  \n",
              "4          8.699515              -0.937344  "
            ]
          },
          "execution_count": 84,
          "metadata": {},
          "output_type": "execute_result"
        }
      ],
      "source": [
        "df.head()"
      ]
    },
    {
      "cell_type": "code",
      "execution_count": null,
      "metadata": {
        "colab": {
          "base_uri": "https://localhost:8080/",
          "height": 613
        },
        "id": "iQ5_l7B9bzRM",
        "outputId": "6872b000-28d1-47f1-fa33-bd1506747c03"
      },
      "outputs": [
        {
          "data": {
            "text/plain": [
              "<matplotlib.axes._subplots.AxesSubplot at 0x21336636e48>"
            ]
          },
          "execution_count": 85,
          "metadata": {},
          "output_type": "execute_result"
        },
        {
          "data": {
            "image/png": "[encoded data removed]",
            "text/plain": [
              "<Figure size 1080x576 with 1 Axes>"
            ]
          },
          "metadata": {
            "needs_background": "light"
          },
          "output_type": "display_data"
        }
      ],
      "source": [
        "correlation =df.corr()\n",
        "import seaborn as sns\n",
        "f, ax = plt.subplots(figsize=(15,8))\n",
        "sns.heatmap(correlation,cbar=0, linewidths=2,vmax=1, vmin=0, square=True, cmap='Blues',annot=True)"
      ]
    },
    {
      "cell_type": "code",
      "execution_count": null,
      "metadata": {
        "colab": {
          "base_uri": "https://localhost:8080/"
        },
        "id": "ZxrfBJvXYRdr",
        "outputId": "44852fa1-3ace-42b4-ad67-803ff8930f8b"
      },
      "outputs": [
        {
          "data": {
            "text/plain": [
              "Index(['Loan_ID', 'Gender', 'Married', 'Dependents', 'Education',\n",
              "       'Self_Employed', 'Credit_History', 'Property_Area', 'Loan_Status',\n",
              "       'log_LoanAmount', 'Total_Income_log', 'Monthly_Repayment_log'],\n",
              "      dtype='object')"
            ]
          },
          "execution_count": 86,
          "metadata": {},
          "output_type": "execute_result"
        }
      ],
      "source": [
        "df.columns"
      ]
    },
    {
      "cell_type": "markdown",
      "metadata": {
        "id": "Vfux_AiwkEVf"
      },
      "source": [
        "# Model Implememntation"
      ]
    },
    {
      "cell_type": "code",
      "execution_count": null,
      "metadata": {
        "id": "r2yPT8SLlBY_"
      },
      "outputs": [],
      "source": [
        "X =df.drop(['Loan_ID','Loan_Status'],axis=1)\n",
        "Y = df.Loan_Status"
      ]
    },
    {
      "cell_type": "code",
      "execution_count": null,
      "metadata": {
        "id": "TqLd2dEfN_Ch",
        "outputId": "b1ea6522-ac05-4c95-e4b1-9d6c2ba5d08a"
      },
      "outputs": [
        {
          "data": {
            "text/html": [
              "<div>\n",
              "<style scoped>\n",
              "    .dataframe tbody tr th:only-of-type {\n",
              "        vertical-align: middle;\n",
              "    }\n",
              "\n",
              "    .dataframe tbody tr th {\n",
              "        vertical-align: top;\n",
              "    }\n",
              "\n",
              "    .dataframe thead th {\n",
              "        text-align: right;\n",
              "    }\n",
              "</style>\n",
              "<table border=\"1\" class=\"dataframe\">\n",
              "  <thead>\n",
              "    <tr style=\"text-align: right;\">\n",
              "      <th></th>\n",
              "      <th>Gender</th>\n",
              "      <th>Married</th>\n",
              "      <th>Dependents</th>\n",
              "      <th>Education</th>\n",
              "      <th>Self_Employed</th>\n",
              "      <th>Credit_History</th>\n",
              "      <th>Property_Area</th>\n",
              "      <th>log_LoanAmount</th>\n",
              "      <th>Total_Income_log</th>\n",
              "      <th>Monthly_Repayment_log</th>\n",
              "    </tr>\n",
              "  </thead>\n",
              "  <tbody>\n",
              "    <tr>\n",
              "      <th>0</th>\n",
              "      <td>1</td>\n",
              "      <td>0</td>\n",
              "      <td>0</td>\n",
              "      <td>1</td>\n",
              "      <td>0</td>\n",
              "      <td>1.0</td>\n",
              "      <td>2</td>\n",
              "      <td>4.852030</td>\n",
              "      <td>8.674026</td>\n",
              "      <td>-1.034074</td>\n",
              "    </tr>\n",
              "    <tr>\n",
              "      <th>1</th>\n",
              "      <td>1</td>\n",
              "      <td>1</td>\n",
              "      <td>1</td>\n",
              "      <td>1</td>\n",
              "      <td>0</td>\n",
              "      <td>1.0</td>\n",
              "      <td>0</td>\n",
              "      <td>4.852030</td>\n",
              "      <td>8.714568</td>\n",
              "      <td>-1.034074</td>\n",
              "    </tr>\n",
              "    <tr>\n",
              "      <th>2</th>\n",
              "      <td>1</td>\n",
              "      <td>1</td>\n",
              "      <td>0</td>\n",
              "      <td>1</td>\n",
              "      <td>1</td>\n",
              "      <td>1.0</td>\n",
              "      <td>2</td>\n",
              "      <td>4.189655</td>\n",
              "      <td>8.006368</td>\n",
              "      <td>-1.696449</td>\n",
              "    </tr>\n",
              "    <tr>\n",
              "      <th>3</th>\n",
              "      <td>1</td>\n",
              "      <td>1</td>\n",
              "      <td>0</td>\n",
              "      <td>0</td>\n",
              "      <td>0</td>\n",
              "      <td>1.0</td>\n",
              "      <td>2</td>\n",
              "      <td>4.787492</td>\n",
              "      <td>8.505323</td>\n",
              "      <td>-1.098612</td>\n",
              "    </tr>\n",
              "    <tr>\n",
              "      <th>4</th>\n",
              "      <td>1</td>\n",
              "      <td>0</td>\n",
              "      <td>0</td>\n",
              "      <td>1</td>\n",
              "      <td>0</td>\n",
              "      <td>1.0</td>\n",
              "      <td>2</td>\n",
              "      <td>4.948760</td>\n",
              "      <td>8.699515</td>\n",
              "      <td>-0.937344</td>\n",
              "    </tr>\n",
              "    <tr>\n",
              "      <th>...</th>\n",
              "      <td>...</td>\n",
              "      <td>...</td>\n",
              "      <td>...</td>\n",
              "      <td>...</td>\n",
              "      <td>...</td>\n",
              "      <td>...</td>\n",
              "      <td>...</td>\n",
              "      <td>...</td>\n",
              "      <td>...</td>\n",
              "      <td>...</td>\n",
              "    </tr>\n",
              "    <tr>\n",
              "      <th>609</th>\n",
              "      <td>0</td>\n",
              "      <td>0</td>\n",
              "      <td>0</td>\n",
              "      <td>1</td>\n",
              "      <td>0</td>\n",
              "      <td>1.0</td>\n",
              "      <td>0</td>\n",
              "      <td>4.262680</td>\n",
              "      <td>7.972466</td>\n",
              "      <td>-1.623424</td>\n",
              "    </tr>\n",
              "    <tr>\n",
              "      <th>610</th>\n",
              "      <td>1</td>\n",
              "      <td>1</td>\n",
              "      <td>3</td>\n",
              "      <td>1</td>\n",
              "      <td>0</td>\n",
              "      <td>1.0</td>\n",
              "      <td>0</td>\n",
              "      <td>3.688879</td>\n",
              "      <td>8.320205</td>\n",
              "      <td>-1.504077</td>\n",
              "    </tr>\n",
              "    <tr>\n",
              "      <th>611</th>\n",
              "      <td>1</td>\n",
              "      <td>1</td>\n",
              "      <td>1</td>\n",
              "      <td>1</td>\n",
              "      <td>0</td>\n",
              "      <td>1.0</td>\n",
              "      <td>2</td>\n",
              "      <td>5.533389</td>\n",
              "      <td>9.025456</td>\n",
              "      <td>-0.352715</td>\n",
              "    </tr>\n",
              "    <tr>\n",
              "      <th>612</th>\n",
              "      <td>1</td>\n",
              "      <td>1</td>\n",
              "      <td>2</td>\n",
              "      <td>1</td>\n",
              "      <td>0</td>\n",
              "      <td>1.0</td>\n",
              "      <td>2</td>\n",
              "      <td>5.231109</td>\n",
              "      <td>8.933664</td>\n",
              "      <td>-0.654995</td>\n",
              "    </tr>\n",
              "    <tr>\n",
              "      <th>613</th>\n",
              "      <td>0</td>\n",
              "      <td>0</td>\n",
              "      <td>0</td>\n",
              "      <td>1</td>\n",
              "      <td>1</td>\n",
              "      <td>0.0</td>\n",
              "      <td>1</td>\n",
              "      <td>4.890349</td>\n",
              "      <td>8.430109</td>\n",
              "      <td>-0.995755</td>\n",
              "    </tr>\n",
              "  </tbody>\n",
              "</table>\n",
              "<p>614 rows × 10 columns</p>\n",
              "</div>"
            ],
            "text/plain": [
              "     Gender  Married  Dependents  Education  Self_Employed  Credit_History  \\\n",
              "0         1        0           0          1              0             1.0   \n",
              "1         1        1           1          1              0             1.0   \n",
              "2         1        1           0          1              1             1.0   \n",
              "3         1        1           0          0              0             1.0   \n",
              "4         1        0           0          1              0             1.0   \n",
              "..      ...      ...         ...        ...            ...             ...   \n",
              "609       0        0           0          1              0             1.0   \n",
              "610       1        1           3          1              0             1.0   \n",
              "611       1        1           1          1              0             1.0   \n",
              "612       1        1           2          1              0             1.0   \n",
              "613       0        0           0          1              1             0.0   \n",
              "\n",
              "     Property_Area  log_LoanAmount  Total_Income_log  Monthly_Repayment_log  \n",
              "0                2        4.852030          8.674026              -1.034074  \n",
              "1                0        4.852030          8.714568              -1.034074  \n",
              "2                2        4.189655          8.006368              -1.696449  \n",
              "3                2        4.787492          8.505323              -1.098612  \n",
              "4                2        4.948760          8.699515              -0.937344  \n",
              "..             ...             ...               ...                    ...  \n",
              "609              0        4.262680          7.972466              -1.623424  \n",
              "610              0        3.688879          8.320205              -1.504077  \n",
              "611              2        5.533389          9.025456              -0.352715  \n",
              "612              2        5.231109          8.933664              -0.654995  \n",
              "613              1        4.890349          8.430109              -0.995755  \n",
              "\n",
              "[614 rows x 10 columns]"
            ]
          },
          "execution_count": 88,
          "metadata": {},
          "output_type": "execute_result"
        }
      ],
      "source": [
        "X"
      ]
    },
    {
      "cell_type": "markdown",
      "metadata": {
        "id": "V9PWjf-OsbXa"
      },
      "source": [
        "# Train Test Split"
      ]
    },
    {
      "cell_type": "code",
      "execution_count": null,
      "metadata": {
        "id": "DM5YXyUacEE5"
      },
      "outputs": [],
      "source": [
        "from sklearn.model_selection import train_test_split\n",
        "x_train, x_test, y_train, y_test = train_test_split(X,Y, test_size=0.3)"
      ]
    },
    {
      "cell_type": "code",
      "execution_count": null,
      "metadata": {
        "id": "-CMAsLb3TZfb"
      },
      "outputs": [],
      "source": [
        "from sklearn import metrics\n",
        "# Classifier algorithms\n",
        "from sklearn.linear_model import LogisticRegression\n",
        "from sklearn.tree import DecisionTreeClassifier\n",
        "from sklearn.ensemble import RandomForestClassifier"
      ]
    },
    {
      "cell_type": "markdown",
      "metadata": {
        "id": "WtAysCvAsjqk"
      },
      "source": [
        "# Model Training Function"
      ]
    },
    {
      "cell_type": "code",
      "execution_count": null,
      "metadata": {
        "id": "6W0zzni-BbbD"
      },
      "outputs": [],
      "source": [
        "def model_train(model, model_name, X_train, y_train, X_test, y_test):\n",
        "    model.fit(X_train, y_train)\n",
        "\n",
        "    y_pred = model.predict(X_test)\n",
        "    y_pred_prob = model.predict_proba(X_test)[:, 1]\n",
        "    test_result = pd.DataFrame(data={'y_act':y_test, 'y_pred':y_pred, 'y_pred_prob':y_pred_prob})\n",
        "\n",
        "    accuracy = metrics.accuracy_score(test_result['y_act'], test_result['y_pred']) \n",
        "    precision = metrics.precision_score(test_result['y_act'], test_result['y_pred'], average='binary', pos_label=1)\n",
        "    f1_score = metrics.f1_score(test_result['y_act'], test_result['y_pred'], average='weighted')  #weighted accounts for label imbalance.\n",
        "    roc_auc = metrics.roc_auc_score(test_result['y_act'], test_result['y_pred_prob'])\n",
        "\n",
        "    return ({'model_name':model_name, \n",
        "                   'model':model, \n",
        "                   'accuracy':accuracy, \n",
        "                   'precision':precision,\n",
        "                  'f1_score':f1_score,\n",
        "                  'roc_auc':roc_auc,\n",
        "                  })"
      ]
    },
    {
      "cell_type": "code",
      "execution_count": null,
      "metadata": {
        "colab": {
          "base_uri": "https://localhost:8080/"
        },
        "id": "4cqrJD9KT2Mr",
        "outputId": "dde596c6-72b0-4379-83ed-27f538343db5"
      },
      "outputs": [
        {
          "name": "stderr",
          "output_type": "stream",
          "text": [
            "[Parallel(n_jobs=3)]: Using backend LokyBackend with 3 concurrent workers.\n",
            "[Parallel(n_jobs=3)]: Done   1 out of   1 | elapsed:    2.9s finished\n"
          ]
        }
      ],
      "source": [
        "model_logistic_regression = (model_train(LogisticRegression(n_jobs=3, verbose=1),'lgr1', x_train, y_train, x_test, y_test))"
      ]
    },
    {
      "cell_type": "code",
      "execution_count": null,
      "metadata": {
        "colab": {
          "base_uri": "https://localhost:8080/"
        },
        "id": "ronVodm2T2QW",
        "outputId": "1c7056a1-cce1-48be-e6ed-5862fc4f53cb"
      },
      "outputs": [
        {
          "data": {
            "text/plain": [
              "{'model_name': 'lgr1',\n",
              " 'model': LogisticRegression(n_jobs=3, verbose=1),\n",
              " 'accuracy': 0.8540540540540541,\n",
              " 'precision': 0.8410596026490066,\n",
              " 'f1_score': 0.8422892083174383,\n",
              " 'roc_auc': 0.7837762237762237}"
            ]
          },
          "execution_count": 93,
          "metadata": {},
          "output_type": "execute_result"
        }
      ],
      "source": [
        "model_logistic_regression"
      ]
    },
    {
      "cell_type": "code",
      "execution_count": null,
      "metadata": {
        "colab": {
          "base_uri": "https://localhost:8080/"
        },
        "id": "C6OTE08QE0Kr",
        "outputId": "20c8a361-d807-4faa-a44c-19edea901096"
      },
      "outputs": [
        {
          "name": "stderr",
          "output_type": "stream",
          "text": [
            "[Parallel(n_jobs=3)]: Using backend ThreadingBackend with 3 concurrent workers.\n",
            "[Parallel(n_jobs=3)]: Done  44 tasks      | elapsed:    0.0s\n",
            "[Parallel(n_jobs=3)]: Done 194 tasks      | elapsed:    0.4s\n",
            "[Parallel(n_jobs=3)]: Done 444 tasks      | elapsed:    1.1s\n",
            "[Parallel(n_jobs=3)]: Done 500 out of 500 | elapsed:    1.2s finished\n",
            "[Parallel(n_jobs=3)]: Using backend ThreadingBackend with 3 concurrent workers.\n",
            "[Parallel(n_jobs=3)]: Done  44 tasks      | elapsed:    0.0s\n",
            "[Parallel(n_jobs=3)]: Done 194 tasks      | elapsed:    0.0s\n",
            "[Parallel(n_jobs=3)]: Done 444 tasks      | elapsed:    0.2s\n",
            "[Parallel(n_jobs=3)]: Done 500 out of 500 | elapsed:    0.2s finished\n",
            "[Parallel(n_jobs=3)]: Using backend ThreadingBackend with 3 concurrent workers.\n",
            "[Parallel(n_jobs=3)]: Done  44 tasks      | elapsed:    0.0s\n",
            "[Parallel(n_jobs=3)]: Done 194 tasks      | elapsed:    0.0s\n",
            "[Parallel(n_jobs=3)]: Done 444 tasks      | elapsed:    0.2s\n",
            "[Parallel(n_jobs=3)]: Done 500 out of 500 | elapsed:    0.3s finished\n"
          ]
        }
      ],
      "source": [
        "model_RandomForest_0 = model_train(RandomForestClassifier(n_estimators=500, max_depth=10, n_jobs=3, verbose=1), 'rf_new', x_train, y_train, x_test, y_test)"
      ]
    },
    {
      "cell_type": "code",
      "execution_count": null,
      "metadata": {
        "colab": {
          "base_uri": "https://localhost:8080/"
        },
        "id": "wc-bxkFQI07X",
        "outputId": "948d9452-c014-4c89-a841-2b04d25b818b"
      },
      "outputs": [
        {
          "data": {
            "text/plain": [
              "{'model_name': 'rf_new',\n",
              " 'model': RandomForestClassifier(max_depth=10, n_estimators=500, n_jobs=3, verbose=1),\n",
              " 'accuracy': 0.8324324324324325,\n",
              " 'precision': 0.8413793103448276,\n",
              " 'f1_score': 0.8237734385102806,\n",
              " 'roc_auc': 0.8013986013986014}"
            ]
          },
          "execution_count": 95,
          "metadata": {},
          "output_type": "execute_result"
        }
      ],
      "source": [
        "model_RandomForest_0"
      ]
    },
    {
      "cell_type": "code",
      "execution_count": null,
      "metadata": {
        "colab": {
          "base_uri": "https://localhost:8080/"
        },
        "id": "7cR-_3IOIdAY",
        "outputId": "9eabc12b-9b74-4989-827c-48c1f3b19054"
      },
      "outputs": [
        {
          "name": "stderr",
          "output_type": "stream",
          "text": [
            "[Parallel(n_jobs=3)]: Using backend ThreadingBackend with 3 concurrent workers.\n",
            "[Parallel(n_jobs=3)]: Done  44 tasks      | elapsed:    0.0s\n",
            "[Parallel(n_jobs=3)]: Done 194 tasks      | elapsed:    0.7s\n",
            "[Parallel(n_jobs=3)]: Done 444 tasks      | elapsed:    1.7s\n",
            "[Parallel(n_jobs=3)]: Done 500 out of 500 | elapsed:    1.9s finished\n",
            "[Parallel(n_jobs=3)]: Using backend ThreadingBackend with 3 concurrent workers.\n",
            "[Parallel(n_jobs=3)]: Done  44 tasks      | elapsed:    0.0s\n",
            "[Parallel(n_jobs=3)]: Done 194 tasks      | elapsed:    0.0s\n",
            "[Parallel(n_jobs=3)]: Done 444 tasks      | elapsed:    0.2s\n",
            "[Parallel(n_jobs=3)]: Done 500 out of 500 | elapsed:    0.2s finished\n",
            "[Parallel(n_jobs=3)]: Using backend ThreadingBackend with 3 concurrent workers.\n",
            "[Parallel(n_jobs=3)]: Done  44 tasks      | elapsed:    0.0s\n",
            "[Parallel(n_jobs=3)]: Done 194 tasks      | elapsed:    0.0s\n",
            "[Parallel(n_jobs=3)]: Done 444 tasks      | elapsed:    0.2s\n",
            "[Parallel(n_jobs=3)]: Done 500 out of 500 | elapsed:    0.3s finished\n"
          ]
        }
      ],
      "source": [
        "model_RandomForest_1 = model_train(RandomForestClassifier(n_estimators=500, max_depth=20, n_jobs=3, verbose=1), 'rf_new', x_train, y_train, x_test, y_test)"
      ]
    },
    {
      "cell_type": "code",
      "execution_count": null,
      "metadata": {
        "colab": {
          "base_uri": "https://localhost:8080/"
        },
        "id": "EM2X52thIdCk",
        "outputId": "704a9e4f-639f-4ae6-bebf-29a5b1507fa0"
      },
      "outputs": [
        {
          "data": {
            "text/plain": [
              "{'model_name': 'rf_new',\n",
              " 'model': RandomForestClassifier(max_depth=20, n_estimators=500, n_jobs=3, verbose=1),\n",
              " 'accuracy': 0.827027027027027,\n",
              " 'precision': 0.8450704225352113,\n",
              " 'f1_score': 0.8202524252944421,\n",
              " 'roc_auc': 0.7955944055944055}"
            ]
          },
          "execution_count": 97,
          "metadata": {},
          "output_type": "execute_result"
        }
      ],
      "source": [
        "model_RandomForest_1"
      ]
    },
    {
      "cell_type": "code",
      "execution_count": null,
      "metadata": {
        "colab": {
          "base_uri": "https://localhost:8080/"
        },
        "id": "PqhlcM8zIdFt",
        "outputId": "613d479f-744e-4369-cb14-37984eebac5f"
      },
      "outputs": [
        {
          "name": "stderr",
          "output_type": "stream",
          "text": [
            "[Parallel(n_jobs=3)]: Using backend ThreadingBackend with 3 concurrent workers.\n",
            "[Parallel(n_jobs=3)]: Done  44 tasks      | elapsed:    0.0s\n",
            "[Parallel(n_jobs=3)]: Done 194 tasks      | elapsed:    0.5s\n",
            "[Parallel(n_jobs=3)]: Done 444 tasks      | elapsed:    1.5s\n",
            "[Parallel(n_jobs=3)]: Done 500 out of 500 | elapsed:    1.6s finished\n",
            "[Parallel(n_jobs=3)]: Using backend ThreadingBackend with 3 concurrent workers.\n",
            "[Parallel(n_jobs=3)]: Done  44 tasks      | elapsed:    0.0s\n",
            "[Parallel(n_jobs=3)]: Done 194 tasks      | elapsed:    0.0s\n",
            "[Parallel(n_jobs=3)]: Done 444 tasks      | elapsed:    0.2s\n",
            "[Parallel(n_jobs=3)]: Done 500 out of 500 | elapsed:    0.2s finished\n",
            "[Parallel(n_jobs=3)]: Using backend ThreadingBackend with 3 concurrent workers.\n",
            "[Parallel(n_jobs=3)]: Done  44 tasks      | elapsed:    0.0s\n",
            "[Parallel(n_jobs=3)]: Done 194 tasks      | elapsed:    0.1s\n",
            "[Parallel(n_jobs=3)]: Done 444 tasks      | elapsed:    0.2s\n",
            "[Parallel(n_jobs=3)]: Done 500 out of 500 | elapsed:    0.3s finished\n"
          ]
        }
      ],
      "source": [
        "model_RandomForest_2 = model_train(RandomForestClassifier(n_estimators=500, max_depth=None, n_jobs=3, verbose=1), 'rf_new', x_train, y_train, x_test, y_test)"
      ]
    },
    {
      "cell_type": "code",
      "execution_count": null,
      "metadata": {
        "colab": {
          "base_uri": "https://localhost:8080/"
        },
        "id": "bUcBW41_JOb6",
        "outputId": "20b1551d-23ff-4f61-c1f6-50f6046617bc"
      },
      "outputs": [
        {
          "data": {
            "text/plain": [
              "{'model_name': 'rf_new',\n",
              " 'model': RandomForestClassifier(n_estimators=500, n_jobs=3, verbose=1),\n",
              " 'accuracy': 0.8216216216216217,\n",
              " 'precision': 0.8439716312056738,\n",
              " 'f1_score': 0.8153319371031548,\n",
              " 'roc_auc': 0.7948951048951048}"
            ]
          },
          "execution_count": 99,
          "metadata": {},
          "output_type": "execute_result"
        }
      ],
      "source": [
        "model_RandomForest_2"
      ]
    },
    {
      "cell_type": "code",
      "execution_count": null,
      "metadata": {
        "colab": {
          "base_uri": "https://localhost:8080/"
        },
        "id": "WBAzCnl0J2nY",
        "outputId": "0f8a773e-9b2c-4210-825d-007cd823b991"
      },
      "outputs": [
        {
          "name": "stderr",
          "output_type": "stream",
          "text": [
            "[Parallel(n_jobs=3)]: Using backend ThreadingBackend with 3 concurrent workers.\n",
            "[Parallel(n_jobs=3)]: Done  44 tasks      | elapsed:    0.1s\n",
            "[Parallel(n_jobs=3)]: Done 100 out of 100 | elapsed:    0.3s finished\n",
            "[Parallel(n_jobs=3)]: Using backend ThreadingBackend with 3 concurrent workers.\n",
            "[Parallel(n_jobs=3)]: Done  44 tasks      | elapsed:    0.0s\n",
            "[Parallel(n_jobs=3)]: Done 100 out of 100 | elapsed:    0.0s finished\n",
            "[Parallel(n_jobs=3)]: Using backend ThreadingBackend with 3 concurrent workers.\n",
            "[Parallel(n_jobs=3)]: Done  44 tasks      | elapsed:    0.0s\n",
            "[Parallel(n_jobs=3)]: Done 100 out of 100 | elapsed:    0.0s finished\n"
          ]
        }
      ],
      "source": [
        "model_RandomForest_3 = model_train(RandomForestClassifier(n_estimators=100, max_depth=10, n_jobs=3, verbose=1), 'rf_new', x_train, y_train, x_test, y_test)"
      ]
    },
    {
      "cell_type": "code",
      "execution_count": null,
      "metadata": {
        "colab": {
          "base_uri": "https://localhost:8080/"
        },
        "id": "f20NETHRJ2pu",
        "outputId": "603a35a1-401d-4d37-8478-b504802b8d8d"
      },
      "outputs": [
        {
          "data": {
            "text/plain": [
              "{'model_name': 'rf_new',\n",
              " 'model': RandomForestClassifier(max_depth=10, n_jobs=3, verbose=1),\n",
              " 'accuracy': 0.8108108108108109,\n",
              " 'precision': 0.8368794326241135,\n",
              " 'f1_score': 0.8041399332912248,\n",
              " 'roc_auc': 0.8022377622377622}"
            ]
          },
          "execution_count": 101,
          "metadata": {},
          "output_type": "execute_result"
        }
      ],
      "source": [
        "model_RandomForest_3"
      ]
    },
    {
      "cell_type": "code",
      "execution_count": null,
      "metadata": {
        "colab": {
          "base_uri": "https://localhost:8080/"
        },
        "id": "yxCmy9DiJ2s6",
        "outputId": "cc54d0b2-e2b3-4caa-8e44-74e6d80c4637"
      },
      "outputs": [
        {
          "name": "stderr",
          "output_type": "stream",
          "text": [
            "[Parallel(n_jobs=3)]: Using backend ThreadingBackend with 3 concurrent workers.\n",
            "[Parallel(n_jobs=3)]: Done  44 tasks      | elapsed:    0.0s\n",
            "[Parallel(n_jobs=3)]: Done 100 out of 100 | elapsed:    0.2s finished\n",
            "[Parallel(n_jobs=3)]: Using backend ThreadingBackend with 3 concurrent workers.\n",
            "[Parallel(n_jobs=3)]: Done  44 tasks      | elapsed:    0.0s\n",
            "[Parallel(n_jobs=3)]: Done 100 out of 100 | elapsed:    0.0s finished\n",
            "[Parallel(n_jobs=3)]: Using backend ThreadingBackend with 3 concurrent workers.\n",
            "[Parallel(n_jobs=3)]: Done  44 tasks      | elapsed:    0.0s\n",
            "[Parallel(n_jobs=3)]: Done 100 out of 100 | elapsed:    0.0s finished\n"
          ]
        }
      ],
      "source": [
        "model_RandomForest_4 = model_train(RandomForestClassifier(n_estimators=100, max_depth=20, n_jobs=3, verbose=1), 'rf_new', x_train, y_train, x_test, y_test)"
      ]
    },
    {
      "cell_type": "code",
      "execution_count": null,
      "metadata": {
        "colab": {
          "base_uri": "https://localhost:8080/"
        },
        "id": "8K1RBDFxKRi2",
        "outputId": "1f73c7ee-f146-4152-f3e6-f949ffdbcac3"
      },
      "outputs": [
        {
          "data": {
            "text/plain": [
              "{'model_name': 'rf_new',\n",
              " 'model': RandomForestClassifier(max_depth=20, n_jobs=3, verbose=1),\n",
              " 'accuracy': 0.827027027027027,\n",
              " 'precision': 0.8450704225352113,\n",
              " 'f1_score': 0.8202524252944421,\n",
              " 'roc_auc': 0.7952447552447552}"
            ]
          },
          "execution_count": 103,
          "metadata": {},
          "output_type": "execute_result"
        }
      ],
      "source": [
        "model_RandomForest_4"
      ]
    },
    {
      "cell_type": "code",
      "execution_count": null,
      "metadata": {
        "id": "fUPRZNbHHK2c"
      },
      "outputs": [],
      "source": [
        "model_Decision_Tree_01 = model_train(DecisionTreeClassifier( max_depth=10), 'rf_D', x_train, y_train, x_test, y_test)"
      ]
    },
    {
      "cell_type": "code",
      "execution_count": null,
      "metadata": {
        "colab": {
          "base_uri": "https://localhost:8080/"
        },
        "id": "IZF5ahaMHK4k",
        "outputId": "e63088f5-eaf0-41a1-d983-bbf6a20f91ad"
      },
      "outputs": [
        {
          "data": {
            "text/plain": [
              "{'model_name': 'rf_D',\n",
              " 'model': DecisionTreeClassifier(max_depth=10),\n",
              " 'accuracy': 0.772972972972973,\n",
              " 'precision': 0.8492063492063492,\n",
              " 'f1_score': 0.7751822546230442,\n",
              " 'roc_auc': 0.7434965034965035}"
            ]
          },
          "execution_count": 105,
          "metadata": {},
          "output_type": "execute_result"
        }
      ],
      "source": [
        "model_Decision_Tree_01"
      ]
    },
    {
      "cell_type": "code",
      "execution_count": null,
      "metadata": {
        "id": "zfHRzpA_HK73"
      },
      "outputs": [],
      "source": [
        "model_Decision_Tree_02 = model_train(DecisionTreeClassifier( max_depth=8), 'rf_D', x_train, y_train, x_test, y_test)"
      ]
    },
    {
      "cell_type": "code",
      "execution_count": null,
      "metadata": {
        "colab": {
          "base_uri": "https://localhost:8080/"
        },
        "id": "022z8BKoH46a",
        "outputId": "c2a747e2-560f-4519-cc87-fed05ef66e90"
      },
      "outputs": [
        {
          "data": {
            "text/plain": [
              "{'model_name': 'rf_D',\n",
              " 'model': DecisionTreeClassifier(max_depth=8),\n",
              " 'accuracy': 0.7891891891891892,\n",
              " 'precision': 0.8473282442748091,\n",
              " 'f1_score': 0.7886260192492397,\n",
              " 'roc_auc': 0.7372727272727273}"
            ]
          },
          "execution_count": 107,
          "metadata": {},
          "output_type": "execute_result"
        }
      ],
      "source": [
        "model_Decision_Tree_02"
      ]
    },
    {
      "cell_type": "code",
      "execution_count": null,
      "metadata": {
        "id": "XVKwhgmlJovW"
      },
      "outputs": [],
      "source": [
        "model_Decision_Tree_03 = model_train(DecisionTreeClassifier( max_depth=5), 'rf_D', x_train, y_train, x_test, y_test)"
      ]
    },
    {
      "cell_type": "code",
      "execution_count": null,
      "metadata": {
        "colab": {
          "base_uri": "https://localhost:8080/"
        },
        "id": "aBiyxbqwJoy7",
        "outputId": "334932eb-5f8f-41b1-80f5-26a9149b8f3e"
      },
      "outputs": [
        {
          "data": {
            "text/plain": [
              "{'model_name': 'rf_D',\n",
              " 'model': DecisionTreeClassifier(max_depth=5),\n",
              " 'accuracy': 0.7837837837837838,\n",
              " 'precision': 0.835820895522388,\n",
              " 'f1_score': 0.7813422341724229,\n",
              " 'roc_auc': 0.740979020979021}"
            ]
          },
          "execution_count": 109,
          "metadata": {},
          "output_type": "execute_result"
        }
      ],
      "source": [
        "model_Decision_Tree_03"
      ]
    },
    {
      "cell_type": "code",
      "execution_count": null,
      "metadata": {
        "id": "hxO8x1kXIEzv"
      },
      "outputs": [],
      "source": [
        "model_Decision_Tree_04 = model_train(DecisionTreeClassifier( max_depth=4), 'rf_D', x_train, y_train, x_test, y_test)"
      ]
    },
    {
      "cell_type": "code",
      "execution_count": null,
      "metadata": {
        "colab": {
          "base_uri": "https://localhost:8080/"
        },
        "id": "WFjkdSqsIKqr",
        "outputId": "d069d167-176e-44a3-cd36-b133a68e609e"
      },
      "outputs": [
        {
          "data": {
            "text/plain": [
              "{'model_name': 'rf_D',\n",
              " 'model': DecisionTreeClassifier(max_depth=4),\n",
              " 'accuracy': 0.8486486486486486,\n",
              " 'precision': 0.8493150684931506,\n",
              " 'f1_score': 0.8401546782675369,\n",
              " 'roc_auc': 0.77993006993007}"
            ]
          },
          "execution_count": 111,
          "metadata": {},
          "output_type": "execute_result"
        }
      ],
      "source": [
        "model_Decision_Tree_04"
      ]
    },
    {
      "cell_type": "code",
      "execution_count": null,
      "metadata": {
        "id": "K8SAODpVN_DF",
        "outputId": "87969d6b-cf8c-4d56-d1e0-fd1059ee15a3"
      },
      "outputs": [
        {
          "name": "stdout",
          "output_type": "stream",
          "text": [
            "Fitting 5 folds for each of 6 candidates, totalling 30 fits\n"
          ]
        },
        {
          "name": "stderr",
          "output_type": "stream",
          "text": [
            "[Parallel(n_jobs=3)]: Using backend LokyBackend with 3 concurrent workers.\n",
            "[Parallel(n_jobs=3)]: Done  30 out of  30 | elapsed:   22.6s finished\n"
          ]
        },
        {
          "data": {
            "text/plain": [
              "GridSearchCV(estimator=RandomForestClassifier(), n_jobs=3,\n",
              "             param_grid={'max_depth': [None, 10, 20],\n",
              "                         'n_estimators': [100, 500]},\n",
              "             pre_dispatch=2, verbose=1)"
            ]
          },
          "execution_count": 129,
          "metadata": {},
          "output_type": "execute_result"
        }
      ],
      "source": [
        "from sklearn.model_selection import GridSearchCV\n",
        "\n",
        "parameters = {'n_estimators': [100,500], 'max_depth': [None, 10, 20]}\n",
        "gs_model = GridSearchCV(RandomForestClassifier(), parameters, n_jobs=3, verbose=1, pre_dispatch=2)\n",
        "gs_model.fit(x_train, y_train) "
      ]
    },
    {
      "cell_type": "code",
      "execution_count": null,
      "metadata": {
        "id": "ZQzzfkVwN_DG",
        "outputId": "6c0a87d0-e22c-49af-8b2e-3f29cb3e7a0c"
      },
      "outputs": [
        {
          "name": "stdout",
          "output_type": "stream",
          "text": [
            "{'max_depth': 10, 'n_estimators': 100}\n"
          ]
        }
      ],
      "source": [
        "# Best Model Paramaters\n",
        "print(gs_model.best_params_) "
      ]
    },
    {
      "cell_type": "code",
      "execution_count": null,
      "metadata": {
        "id": "ozE3wnHlN_DI",
        "outputId": "edfb9abc-cb39-4f23-91a4-d51924b3318a"
      },
      "outputs": [
        {
          "name": "stderr",
          "output_type": "stream",
          "text": [
            "[Parallel(n_jobs=3)]: Using backend ThreadingBackend with 3 concurrent workers.\n",
            "[Parallel(n_jobs=3)]: Done  44 tasks      | elapsed:    0.0s\n",
            "[Parallel(n_jobs=3)]: Done 100 out of 100 | elapsed:    0.2s finished\n",
            "[Parallel(n_jobs=3)]: Using backend ThreadingBackend with 3 concurrent workers.\n",
            "[Parallel(n_jobs=3)]: Done  44 tasks      | elapsed:    0.0s\n",
            "[Parallel(n_jobs=3)]: Done 100 out of 100 | elapsed:    0.0s finished\n",
            "[Parallel(n_jobs=3)]: Using backend ThreadingBackend with 3 concurrent workers.\n",
            "[Parallel(n_jobs=3)]: Done  44 tasks      | elapsed:    0.0s\n",
            "[Parallel(n_jobs=3)]: Done 100 out of 100 | elapsed:    0.0s finished\n"
          ]
        }
      ],
      "source": [
        "model_RandomForest_3 = model_train(RandomForestClassifier(n_estimators=100, max_depth=10, n_jobs=3, verbose=1), 'rf_new', x_train, y_train, x_test, y_test)"
      ]
    },
    {
      "cell_type": "markdown",
      "metadata": {
        "id": "s8yiIdgTst8d"
      },
      "source": [
        "Fitting Multipe Models with Different Hyperparamaters to compare the accuracies"
      ]
    },
    {
      "cell_type": "code",
      "execution_count": null,
      "metadata": {
        "colab": {
          "base_uri": "https://localhost:8080/",
          "height": 1000
        },
        "id": "nL6t9FroKmGA",
        "outputId": "2c42fa58-a1c8-447d-8da5-4181215c732d"
      },
      "outputs": [
        {
          "name": "stderr",
          "output_type": "stream",
          "text": [
            "[Parallel(n_jobs=3)]: Using backend LokyBackend with 3 concurrent workers.\n",
            "[Parallel(n_jobs=3)]: Done   1 out of   1 | elapsed:    2.2s finished\n",
            "[Parallel(n_jobs=3)]: Using backend ThreadingBackend with 3 concurrent workers.\n",
            "[Parallel(n_jobs=3)]: Done  44 tasks      | elapsed:    0.0s\n",
            "[Parallel(n_jobs=3)]: Done 194 tasks      | elapsed:    0.4s\n",
            "[Parallel(n_jobs=3)]: Done 444 tasks      | elapsed:    1.1s\n",
            "[Parallel(n_jobs=3)]: Done 500 out of 500 | elapsed:    1.3s finished\n",
            "[Parallel(n_jobs=3)]: Using backend ThreadingBackend with 3 concurrent workers.\n",
            "[Parallel(n_jobs=3)]: Done  44 tasks      | elapsed:    0.0s\n",
            "[Parallel(n_jobs=3)]: Done 194 tasks      | elapsed:    0.0s\n",
            "[Parallel(n_jobs=3)]: Done 444 tasks      | elapsed:    0.2s\n",
            "[Parallel(n_jobs=3)]: Done 500 out of 500 | elapsed:    0.2s finished\n",
            "[Parallel(n_jobs=3)]: Using backend ThreadingBackend with 3 concurrent workers.\n",
            "[Parallel(n_jobs=3)]: Done  44 tasks      | elapsed:    0.0s\n",
            "[Parallel(n_jobs=3)]: Done 194 tasks      | elapsed:    0.0s\n",
            "[Parallel(n_jobs=3)]: Done 444 tasks      | elapsed:    0.2s\n",
            "[Parallel(n_jobs=3)]: Done 500 out of 500 | elapsed:    0.2s finished\n",
            "[Parallel(n_jobs=3)]: Using backend ThreadingBackend with 3 concurrent workers.\n",
            "[Parallel(n_jobs=3)]: Done  44 tasks      | elapsed:    0.0s\n",
            "[Parallel(n_jobs=3)]: Done 194 tasks      | elapsed:    0.6s\n",
            "[Parallel(n_jobs=3)]: Done 444 tasks      | elapsed:    1.5s\n",
            "[Parallel(n_jobs=3)]: Done 500 out of 500 | elapsed:    1.7s finished\n",
            "[Parallel(n_jobs=3)]: Using backend ThreadingBackend with 3 concurrent workers.\n",
            "[Parallel(n_jobs=3)]: Done  44 tasks      | elapsed:    0.0s\n",
            "[Parallel(n_jobs=3)]: Done 194 tasks      | elapsed:    0.0s\n",
            "[Parallel(n_jobs=3)]: Done 444 tasks      | elapsed:    0.2s\n",
            "[Parallel(n_jobs=3)]: Done 500 out of 500 | elapsed:    0.3s finished\n",
            "[Parallel(n_jobs=3)]: Using backend ThreadingBackend with 3 concurrent workers.\n",
            "[Parallel(n_jobs=3)]: Done  44 tasks      | elapsed:    0.0s\n",
            "[Parallel(n_jobs=3)]: Done 194 tasks      | elapsed:    0.0s\n",
            "[Parallel(n_jobs=3)]: Done 444 tasks      | elapsed:    0.2s\n",
            "[Parallel(n_jobs=3)]: Done 500 out of 500 | elapsed:    0.2s finished\n",
            "[Parallel(n_jobs=3)]: Using backend ThreadingBackend with 3 concurrent workers.\n",
            "[Parallel(n_jobs=3)]: Done  44 tasks      | elapsed:    0.0s\n",
            "[Parallel(n_jobs=3)]: Done 194 tasks      | elapsed:    0.6s\n",
            "[Parallel(n_jobs=3)]: Done 444 tasks      | elapsed:    1.6s\n",
            "[Parallel(n_jobs=3)]: Done 500 out of 500 | elapsed:    1.8s finished\n",
            "[Parallel(n_jobs=3)]: Using backend ThreadingBackend with 3 concurrent workers.\n",
            "[Parallel(n_jobs=3)]: Done  44 tasks      | elapsed:    0.0s\n",
            "[Parallel(n_jobs=3)]: Done 194 tasks      | elapsed:    0.0s\n",
            "[Parallel(n_jobs=3)]: Done 444 tasks      | elapsed:    0.2s\n",
            "[Parallel(n_jobs=3)]: Done 500 out of 500 | elapsed:    0.2s finished\n",
            "[Parallel(n_jobs=3)]: Using backend ThreadingBackend with 3 concurrent workers.\n",
            "[Parallel(n_jobs=3)]: Done  44 tasks      | elapsed:    0.0s\n",
            "[Parallel(n_jobs=3)]: Done 194 tasks      | elapsed:    0.1s\n",
            "[Parallel(n_jobs=3)]: Done 444 tasks      | elapsed:    0.2s\n",
            "[Parallel(n_jobs=3)]: Done 500 out of 500 | elapsed:    0.3s finished\n",
            "[Parallel(n_jobs=3)]: Using backend ThreadingBackend with 3 concurrent workers.\n",
            "[Parallel(n_jobs=3)]: Done  44 tasks      | elapsed:    0.0s\n",
            "[Parallel(n_jobs=3)]: Done 100 out of 100 | elapsed:    0.2s finished\n",
            "[Parallel(n_jobs=3)]: Using backend ThreadingBackend with 3 concurrent workers.\n",
            "[Parallel(n_jobs=3)]: Done  44 tasks      | elapsed:    0.0s\n",
            "[Parallel(n_jobs=3)]: Done 100 out of 100 | elapsed:    0.0s finished\n",
            "[Parallel(n_jobs=3)]: Using backend ThreadingBackend with 3 concurrent workers.\n",
            "[Parallel(n_jobs=3)]: Done  44 tasks      | elapsed:    0.0s\n",
            "[Parallel(n_jobs=3)]: Done 100 out of 100 | elapsed:    0.0s finished\n",
            "[Parallel(n_jobs=3)]: Using backend ThreadingBackend with 3 concurrent workers.\n",
            "[Parallel(n_jobs=3)]: Done  44 tasks      | elapsed:    0.0s\n",
            "[Parallel(n_jobs=3)]: Done 100 out of 100 | elapsed:    0.2s finished\n",
            "[Parallel(n_jobs=3)]: Using backend ThreadingBackend with 3 concurrent workers.\n",
            "[Parallel(n_jobs=3)]: Done  44 tasks      | elapsed:    0.0s\n",
            "[Parallel(n_jobs=3)]: Done 100 out of 100 | elapsed:    0.0s finished\n",
            "[Parallel(n_jobs=3)]: Using backend ThreadingBackend with 3 concurrent workers.\n",
            "[Parallel(n_jobs=3)]: Done  44 tasks      | elapsed:    0.0s\n",
            "[Parallel(n_jobs=3)]: Done 100 out of 100 | elapsed:    0.0s finished\n"
          ]
        },
        {
          "data": {
            "text/html": [
              "<div>\n",
              "<style scoped>\n",
              "    .dataframe tbody tr th:only-of-type {\n",
              "        vertical-align: middle;\n",
              "    }\n",
              "\n",
              "    .dataframe tbody tr th {\n",
              "        vertical-align: top;\n",
              "    }\n",
              "\n",
              "    .dataframe thead th {\n",
              "        text-align: right;\n",
              "    }\n",
              "</style>\n",
              "<table border=\"1\" class=\"dataframe\">\n",
              "  <thead>\n",
              "    <tr style=\"text-align: right;\">\n",
              "      <th></th>\n",
              "      <th>model_name</th>\n",
              "      <th>model</th>\n",
              "      <th>accuracy</th>\n",
              "      <th>precision</th>\n",
              "      <th>f1_score</th>\n",
              "      <th>roc_auc</th>\n",
              "    </tr>\n",
              "  </thead>\n",
              "  <tbody>\n",
              "    <tr>\n",
              "      <th>0</th>\n",
              "      <td>lgr1</td>\n",
              "      <td>LogisticRegression(n_jobs=3, verbose=1)</td>\n",
              "      <td>0.854054</td>\n",
              "      <td>0.841060</td>\n",
              "      <td>0.842289</td>\n",
              "      <td>0.783776</td>\n",
              "    </tr>\n",
              "    <tr>\n",
              "      <th>1</th>\n",
              "      <td>rf1</td>\n",
              "      <td>(DecisionTreeClassifier(max_depth=10, max_feat...</td>\n",
              "      <td>0.827027</td>\n",
              "      <td>0.840278</td>\n",
              "      <td>0.818833</td>\n",
              "      <td>0.805315</td>\n",
              "    </tr>\n",
              "    <tr>\n",
              "      <th>2</th>\n",
              "      <td>rf2</td>\n",
              "      <td>(DecisionTreeClassifier(max_depth=20, max_feat...</td>\n",
              "      <td>0.827027</td>\n",
              "      <td>0.845070</td>\n",
              "      <td>0.820252</td>\n",
              "      <td>0.790140</td>\n",
              "    </tr>\n",
              "    <tr>\n",
              "      <th>3</th>\n",
              "      <td>rf3</td>\n",
              "      <td>(DecisionTreeClassifier(max_features='auto', r...</td>\n",
              "      <td>0.832432</td>\n",
              "      <td>0.846154</td>\n",
              "      <td>0.825193</td>\n",
              "      <td>0.800420</td>\n",
              "    </tr>\n",
              "    <tr>\n",
              "      <th>4</th>\n",
              "      <td>rf4</td>\n",
              "      <td>(DecisionTreeClassifier(max_depth=10, max_feat...</td>\n",
              "      <td>0.816216</td>\n",
              "      <td>0.838028</td>\n",
              "      <td>0.809018</td>\n",
              "      <td>0.800979</td>\n",
              "    </tr>\n",
              "    <tr>\n",
              "      <th>5</th>\n",
              "      <td>rf5</td>\n",
              "      <td>(DecisionTreeClassifier(max_depth=20, max_feat...</td>\n",
              "      <td>0.832432</td>\n",
              "      <td>0.851064</td>\n",
              "      <td>0.826524</td>\n",
              "      <td>0.810839</td>\n",
              "    </tr>\n",
              "    <tr>\n",
              "      <th>6</th>\n",
              "      <td>DT1</td>\n",
              "      <td>DecisionTreeClassifier(max_depth=10)</td>\n",
              "      <td>0.767568</td>\n",
              "      <td>0.837209</td>\n",
              "      <td>0.768166</td>\n",
              "      <td>0.722098</td>\n",
              "    </tr>\n",
              "    <tr>\n",
              "      <th>7</th>\n",
              "      <td>DT2</td>\n",
              "      <td>DecisionTreeClassifier(max_depth=8)</td>\n",
              "      <td>0.794595</td>\n",
              "      <td>0.843284</td>\n",
              "      <td>0.792275</td>\n",
              "      <td>0.739301</td>\n",
              "    </tr>\n",
              "    <tr>\n",
              "      <th>8</th>\n",
              "      <td>DT3</td>\n",
              "      <td>DecisionTreeClassifier(max_depth=5)</td>\n",
              "      <td>0.783784</td>\n",
              "      <td>0.835821</td>\n",
              "      <td>0.781342</td>\n",
              "      <td>0.740979</td>\n",
              "    </tr>\n",
              "    <tr>\n",
              "      <th>9</th>\n",
              "      <td>DT4</td>\n",
              "      <td>DecisionTreeClassifier(max_depth=4)</td>\n",
              "      <td>0.843243</td>\n",
              "      <td>0.838926</td>\n",
              "      <td>0.832216</td>\n",
              "      <td>0.750559</td>\n",
              "    </tr>\n",
              "  </tbody>\n",
              "</table>\n",
              "</div>"
            ],
            "text/plain": [
              "  model_name                                              model  accuracy  \\\n",
              "0       lgr1            LogisticRegression(n_jobs=3, verbose=1)  0.854054   \n",
              "1        rf1  (DecisionTreeClassifier(max_depth=10, max_feat...  0.827027   \n",
              "2        rf2  (DecisionTreeClassifier(max_depth=20, max_feat...  0.827027   \n",
              "3        rf3  (DecisionTreeClassifier(max_features='auto', r...  0.832432   \n",
              "4        rf4  (DecisionTreeClassifier(max_depth=10, max_feat...  0.816216   \n",
              "5        rf5  (DecisionTreeClassifier(max_depth=20, max_feat...  0.832432   \n",
              "6        DT1               DecisionTreeClassifier(max_depth=10)  0.767568   \n",
              "7        DT2                DecisionTreeClassifier(max_depth=8)  0.794595   \n",
              "8        DT3                DecisionTreeClassifier(max_depth=5)  0.783784   \n",
              "9        DT4                DecisionTreeClassifier(max_depth=4)  0.843243   \n",
              "\n",
              "   precision  f1_score   roc_auc  \n",
              "0   0.841060  0.842289  0.783776  \n",
              "1   0.840278  0.818833  0.805315  \n",
              "2   0.845070  0.820252  0.790140  \n",
              "3   0.846154  0.825193  0.800420  \n",
              "4   0.838028  0.809018  0.800979  \n",
              "5   0.851064  0.826524  0.810839  \n",
              "6   0.837209  0.768166  0.722098  \n",
              "7   0.843284  0.792275  0.739301  \n",
              "8   0.835821  0.781342  0.740979  \n",
              "9   0.838926  0.832216  0.750559  "
            ]
          },
          "execution_count": 112,
          "metadata": {},
          "output_type": "execute_result"
        }
      ],
      "source": [
        "models = []\n",
        "models.append(model_train(LogisticRegression(n_jobs=3, verbose=1), 'lgr1', x_train, y_train,x_test, y_test))\n",
        "models.append(model_train(RandomForestClassifier(n_estimators=500, max_depth=10, n_jobs=3, verbose=1), 'rf1', x_train, y_train, x_test, y_test))\n",
        "models.append(model_train(RandomForestClassifier(n_estimators=500, max_depth=20, n_jobs=3, verbose=1), 'rf2', x_train, y_train, x_test, y_test))\n",
        "models.append(model_train(RandomForestClassifier(n_estimators=500, max_depth=None, n_jobs=3, verbose=1), 'rf3', x_train, y_train, x_test, y_test))\n",
        "models.append(model_train(RandomForestClassifier(n_estimators=100, max_depth=10, n_jobs=3, verbose=1), 'rf4', x_train, y_train, x_test, y_test))\n",
        "models.append(model_train(RandomForestClassifier(n_estimators=100, max_depth=20, n_jobs=3, verbose=1), 'rf5', x_train, y_train, x_test, y_test))\n",
        "models.append(model_train(DecisionTreeClassifier( max_depth=10), 'DT1', x_train, y_train, x_test, y_test))\n",
        "models.append(model_train(DecisionTreeClassifier( max_depth=8), 'DT2', x_train, y_train, x_test, y_test))\n",
        "models.append(model_train(DecisionTreeClassifier( max_depth=5), 'DT3', x_train, y_train, x_test, y_test))\n",
        "models.append(model_train(DecisionTreeClassifier( max_depth=4), 'DT4', x_train, y_train, x_test, y_test))\n",
        "models = pd.DataFrame(models)\n",
        "models"
      ]
    },
    {
      "cell_type": "code",
      "execution_count": null,
      "metadata": {
        "colab": {
          "base_uri": "https://localhost:8080/"
        },
        "id": "_8qGBI61Q5zs",
        "outputId": "3b7be83e-926d-4325-e9b7-f3f5811a541c"
      },
      "outputs": [
        {
          "name": "stdout",
          "output_type": "stream",
          "text": [
            "              precision    recall  f1-score   support\n",
            "\n",
            "           0       0.65      0.58      0.62        55\n",
            "           1       0.83      0.87      0.85       130\n",
            "\n",
            "    accuracy                           0.78       185\n",
            "   macro avg       0.74      0.73      0.73       185\n",
            "weighted avg       0.78      0.78      0.78       185\n",
            "\n",
            "[[ 32  23]\n",
            " [ 17 113]]\n"
          ]
        }
      ],
      "source": [
        "from sklearn.metrics import classification_report, confusion_matrix \n",
        "\n",
        "y_pred = gs_model.predict(x_test) \n",
        "\n",
        "print(classification_report(y_test, y_pred)) \n",
        "print(confusion_matrix(y_test, y_pred))"
      ]
    },
    {
      "cell_type": "markdown",
      "metadata": {
        "id": "6pDPgdfbs8pF"
      },
      "source": [
        "Select Best Model"
      ]
    },
    {
      "cell_type": "code",
      "execution_count": null,
      "metadata": {
        "colab": {
          "base_uri": "https://localhost:8080/",
          "height": 77
        },
        "id": "WuVzVySCKmLT",
        "outputId": "50180eda-eb8c-436e-8848-41685e61d06b"
      },
      "outputs": [
        {
          "data": {
            "text/html": [
              "<div>\n",
              "<style scoped>\n",
              "    .dataframe tbody tr th:only-of-type {\n",
              "        vertical-align: middle;\n",
              "    }\n",
              "\n",
              "    .dataframe tbody tr th {\n",
              "        vertical-align: top;\n",
              "    }\n",
              "\n",
              "    .dataframe thead th {\n",
              "        text-align: right;\n",
              "    }\n",
              "</style>\n",
              "<table border=\"1\" class=\"dataframe\">\n",
              "  <thead>\n",
              "    <tr style=\"text-align: right;\">\n",
              "      <th></th>\n",
              "      <th>model_name</th>\n",
              "      <th>model</th>\n",
              "      <th>accuracy</th>\n",
              "      <th>precision</th>\n",
              "      <th>f1_score</th>\n",
              "      <th>roc_auc</th>\n",
              "    </tr>\n",
              "  </thead>\n",
              "  <tbody>\n",
              "    <tr>\n",
              "      <th>0</th>\n",
              "      <td>lgr1</td>\n",
              "      <td>LogisticRegression(n_jobs=3, verbose=1)</td>\n",
              "      <td>0.854054</td>\n",
              "      <td>0.84106</td>\n",
              "      <td>0.842289</td>\n",
              "      <td>0.783776</td>\n",
              "    </tr>\n",
              "  </tbody>\n",
              "</table>\n",
              "</div>"
            ],
            "text/plain": [
              "  model_name                                    model  accuracy  precision  \\\n",
              "0       lgr1  LogisticRegression(n_jobs=3, verbose=1)  0.854054    0.84106   \n",
              "\n",
              "   f1_score   roc_auc  \n",
              "0  0.842289  0.783776  "
            ]
          },
          "execution_count": 117,
          "metadata": {},
          "output_type": "execute_result"
        }
      ],
      "source": [
        "# Select best model \n",
        "model = models.query(\"model_name=='lgr1'\")\n",
        "model "
      ]
    },
    {
      "cell_type": "markdown",
      "metadata": {
        "id": "9PGJsVg2SJs2"
      },
      "source": [
        "Saving Best Model"
      ]
    },
    {
      "cell_type": "code",
      "execution_count": null,
      "metadata": {
        "id": "nWmVUDbhKmNb"
      },
      "outputs": [],
      "source": [
        "import pickle\n",
        "\n",
        "save_file = 'model_lgr1_test.pickle'\n",
        "pickle.dump(model, open(save_file, 'wb'))"
      ]
    },
    {
      "cell_type": "code",
      "execution_count": null,
      "metadata": {
        "colab": {
          "base_uri": "https://localhost:8080/",
          "height": 77
        },
        "id": "toGnJ56hKmPc",
        "outputId": "ba228685-703a-46cd-e650-f2145e3fb44a"
      },
      "outputs": [
        {
          "data": {
            "text/html": [
              "<div>\n",
              "<style scoped>\n",
              "    .dataframe tbody tr th:only-of-type {\n",
              "        vertical-align: middle;\n",
              "    }\n",
              "\n",
              "    .dataframe tbody tr th {\n",
              "        vertical-align: top;\n",
              "    }\n",
              "\n",
              "    .dataframe thead th {\n",
              "        text-align: right;\n",
              "    }\n",
              "</style>\n",
              "<table border=\"1\" class=\"dataframe\">\n",
              "  <thead>\n",
              "    <tr style=\"text-align: right;\">\n",
              "      <th></th>\n",
              "      <th>model_name</th>\n",
              "      <th>model</th>\n",
              "      <th>accuracy</th>\n",
              "      <th>precision</th>\n",
              "      <th>f1_score</th>\n",
              "      <th>roc_auc</th>\n",
              "    </tr>\n",
              "  </thead>\n",
              "  <tbody>\n",
              "    <tr>\n",
              "      <th>0</th>\n",
              "      <td>lgr1</td>\n",
              "      <td>LogisticRegression(n_jobs=3, verbose=1)</td>\n",
              "      <td>0.854054</td>\n",
              "      <td>0.84106</td>\n",
              "      <td>0.842289</td>\n",
              "      <td>0.783776</td>\n",
              "    </tr>\n",
              "  </tbody>\n",
              "</table>\n",
              "</div>"
            ],
            "text/plain": [
              "  model_name                                    model  accuracy  precision  \\\n",
              "0       lgr1  LogisticRegression(n_jobs=3, verbose=1)  0.854054    0.84106   \n",
              "\n",
              "   f1_score   roc_auc  \n",
              "0  0.842289  0.783776  "
            ]
          },
          "execution_count": 119,
          "metadata": {},
          "output_type": "execute_result"
        }
      ],
      "source": [
        "# loading from file\n",
        "model_ = pickle.load(open(save_file, 'rb'))\n",
        "model_"
      ]
    },
    {
      "cell_type": "code",
      "execution_count": null,
      "metadata": {
        "id": "AjuhtjKYSZnr"
      },
      "outputs": [],
      "source": [
        "import joblib\n",
        "\n",
        "save_file = 'model_lgr1_test.joblib'\n",
        "joblib.dump(model, open(save_file, 'wb'))"
      ]
    },
    {
      "cell_type": "code",
      "execution_count": null,
      "metadata": {
        "colab": {
          "base_uri": "https://localhost:8080/",
          "height": 77
        },
        "id": "ISBGF0cLSZrH",
        "outputId": "a0053a93-36f7-4ede-b7f5-04f955d905c4"
      },
      "outputs": [
        {
          "data": {
            "text/html": [
              "<div>\n",
              "<style scoped>\n",
              "    .dataframe tbody tr th:only-of-type {\n",
              "        vertical-align: middle;\n",
              "    }\n",
              "\n",
              "    .dataframe tbody tr th {\n",
              "        vertical-align: top;\n",
              "    }\n",
              "\n",
              "    .dataframe thead th {\n",
              "        text-align: right;\n",
              "    }\n",
              "</style>\n",
              "<table border=\"1\" class=\"dataframe\">\n",
              "  <thead>\n",
              "    <tr style=\"text-align: right;\">\n",
              "      <th></th>\n",
              "      <th>model_name</th>\n",
              "      <th>model</th>\n",
              "      <th>accuracy</th>\n",
              "      <th>precision</th>\n",
              "      <th>f1_score</th>\n",
              "      <th>roc_auc</th>\n",
              "    </tr>\n",
              "  </thead>\n",
              "  <tbody>\n",
              "    <tr>\n",
              "      <th>0</th>\n",
              "      <td>lgr1</td>\n",
              "      <td>LogisticRegression(n_jobs=3, verbose=1)</td>\n",
              "      <td>0.854054</td>\n",
              "      <td>0.84106</td>\n",
              "      <td>0.842289</td>\n",
              "      <td>0.783776</td>\n",
              "    </tr>\n",
              "  </tbody>\n",
              "</table>\n",
              "</div>"
            ],
            "text/plain": [
              "  model_name                                    model  accuracy  precision  \\\n",
              "0       lgr1  LogisticRegression(n_jobs=3, verbose=1)  0.854054    0.84106   \n",
              "\n",
              "   f1_score   roc_auc  \n",
              "0  0.842289  0.783776  "
            ]
          },
          "execution_count": 121,
          "metadata": {},
          "output_type": "execute_result"
        }
      ],
      "source": [
        "# loading from file\n",
        "model_ = joblib.load(save_file)\n",
        "model_"
      ]
    },
    {
      "cell_type": "code",
      "execution_count": null,
      "metadata": {
        "colab": {
          "base_uri": "https://localhost:8080/",
          "height": 195
        },
        "id": "qXMr9I3hcYzR",
        "outputId": "c59ee5cf-671a-45a7-e676-74b5f41beb08"
      },
      "outputs": [
        {
          "data": {
            "text/html": [
              "<div>\n",
              "<style scoped>\n",
              "    .dataframe tbody tr th:only-of-type {\n",
              "        vertical-align: middle;\n",
              "    }\n",
              "\n",
              "    .dataframe tbody tr th {\n",
              "        vertical-align: top;\n",
              "    }\n",
              "\n",
              "    .dataframe thead th {\n",
              "        text-align: right;\n",
              "    }\n",
              "</style>\n",
              "<table border=\"1\" class=\"dataframe\">\n",
              "  <thead>\n",
              "    <tr style=\"text-align: right;\">\n",
              "      <th></th>\n",
              "      <th>Loan_ID</th>\n",
              "      <th>Gender</th>\n",
              "      <th>Married</th>\n",
              "      <th>Dependents</th>\n",
              "      <th>Education</th>\n",
              "      <th>Self_Employed</th>\n",
              "      <th>Credit_History</th>\n",
              "      <th>Property_Area</th>\n",
              "      <th>Loan_Status</th>\n",
              "      <th>log_LoanAmount</th>\n",
              "      <th>Total_Income_log</th>\n",
              "      <th>Monthly_Repayment_log</th>\n",
              "    </tr>\n",
              "  </thead>\n",
              "  <tbody>\n",
              "    <tr>\n",
              "      <th>0</th>\n",
              "      <td>LP001002</td>\n",
              "      <td>1</td>\n",
              "      <td>0</td>\n",
              "      <td>0</td>\n",
              "      <td>1</td>\n",
              "      <td>0</td>\n",
              "      <td>1.0</td>\n",
              "      <td>2</td>\n",
              "      <td>1</td>\n",
              "      <td>4.852030</td>\n",
              "      <td>8.674026</td>\n",
              "      <td>-1.034074</td>\n",
              "    </tr>\n",
              "    <tr>\n",
              "      <th>1</th>\n",
              "      <td>LP001003</td>\n",
              "      <td>1</td>\n",
              "      <td>1</td>\n",
              "      <td>1</td>\n",
              "      <td>1</td>\n",
              "      <td>0</td>\n",
              "      <td>1.0</td>\n",
              "      <td>0</td>\n",
              "      <td>0</td>\n",
              "      <td>4.852030</td>\n",
              "      <td>8.714568</td>\n",
              "      <td>-1.034074</td>\n",
              "    </tr>\n",
              "    <tr>\n",
              "      <th>2</th>\n",
              "      <td>LP001005</td>\n",
              "      <td>1</td>\n",
              "      <td>1</td>\n",
              "      <td>0</td>\n",
              "      <td>1</td>\n",
              "      <td>1</td>\n",
              "      <td>1.0</td>\n",
              "      <td>2</td>\n",
              "      <td>1</td>\n",
              "      <td>4.189655</td>\n",
              "      <td>8.006368</td>\n",
              "      <td>-1.696449</td>\n",
              "    </tr>\n",
              "    <tr>\n",
              "      <th>3</th>\n",
              "      <td>LP001006</td>\n",
              "      <td>1</td>\n",
              "      <td>1</td>\n",
              "      <td>0</td>\n",
              "      <td>0</td>\n",
              "      <td>0</td>\n",
              "      <td>1.0</td>\n",
              "      <td>2</td>\n",
              "      <td>1</td>\n",
              "      <td>4.787492</td>\n",
              "      <td>8.505323</td>\n",
              "      <td>-1.098612</td>\n",
              "    </tr>\n",
              "    <tr>\n",
              "      <th>4</th>\n",
              "      <td>LP001008</td>\n",
              "      <td>1</td>\n",
              "      <td>0</td>\n",
              "      <td>0</td>\n",
              "      <td>1</td>\n",
              "      <td>0</td>\n",
              "      <td>1.0</td>\n",
              "      <td>2</td>\n",
              "      <td>1</td>\n",
              "      <td>4.948760</td>\n",
              "      <td>8.699515</td>\n",
              "      <td>-0.937344</td>\n",
              "    </tr>\n",
              "  </tbody>\n",
              "</table>\n",
              "</div>"
            ],
            "text/plain": [
              "    Loan_ID  Gender  Married  Dependents  Education  Self_Employed  \\\n",
              "0  LP001002       1        0           0          1              0   \n",
              "1  LP001003       1        1           1          1              0   \n",
              "2  LP001005       1        1           0          1              1   \n",
              "3  LP001006       1        1           0          0              0   \n",
              "4  LP001008       1        0           0          1              0   \n",
              "\n",
              "   Credit_History  Property_Area  Loan_Status  log_LoanAmount  \\\n",
              "0             1.0              2            1        4.852030   \n",
              "1             1.0              0            0        4.852030   \n",
              "2             1.0              2            1        4.189655   \n",
              "3             1.0              2            1        4.787492   \n",
              "4             1.0              2            1        4.948760   \n",
              "\n",
              "   Total_Income_log  Monthly_Repayment_log  \n",
              "0          8.674026              -1.034074  \n",
              "1          8.714568              -1.034074  \n",
              "2          8.006368              -1.696449  \n",
              "3          8.505323              -1.098612  \n",
              "4          8.699515              -0.937344  "
            ]
          },
          "execution_count": 122,
          "metadata": {},
          "output_type": "execute_result"
        }
      ],
      "source": [
        "df.head()"
      ]
    }
  ],
  "metadata": {
    "colab": {
      "collapsed_sections": [],
      "name": " Capstone_Project_DSA_0302.ipynb",
      "provenance": [],
      "include_colab_link": true
    },
    "kernelspec": {
      "display_name": "Python 3",
      "language": "python",
      "name": "python3"
    },
    "language_info": {
      "codemirror_mode": {
        "name": "ipython",
        "version": 3
      },
      "file_extension": ".py",
      "mimetype": "text/x-python",
      "name": "python",
      "nbconvert_exporter": "python",
      "pygments_lexer": "ipython3",
      "version": "3.7.0"
    }
  },
  "nbformat": 4,
  "nbformat_minor": 0
}